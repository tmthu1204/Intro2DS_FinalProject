{
 "cells": [
  {
   "cell_type": "markdown",
   "metadata": {},
   "source": [
    "# `DATA PREPROCESSING AND EXPLORATION`\n",
    "# **TOPIC: FILMS ANALYSIS**\n",
    "`Group ID`: 17\n",
    "\n",
    "`Group Member`:\n",
    "- 22127404_Tạ Minh Thư\n",
    "- 22127359_Chu Thúy Quỳnh\n",
    "- 22127302_Nguyễn Đăng Nhân"
   ]
  },
  {
   "cell_type": "markdown",
   "metadata": {},
   "source": [
    "## **OBJECTIVES**"
   ]
  },
  {
   "cell_type": "markdown",
   "metadata": {},
   "source": [
    "In this phase, the goal is to ensure the dataset is clean and ready for analysis:\n",
    "- Understand column meanings and data types.\n",
    "- Check for inappropriate data types or inconsistencies.\n",
    "- Analyze value distributions to detect patterns or issues.\n",
    "- Identify and address missing or invalid values."
   ]
  },
  {
   "cell_type": "markdown",
   "metadata": {},
   "source": [
    "## **IMPLEMENTATION WITH EXPLANATION**"
   ]
  },
  {
   "cell_type": "markdown",
   "metadata": {},
   "source": [
    "### **SETUP AND IMPORTS**"
   ]
  },
  {
   "cell_type": "code",
   "execution_count": 73,
   "metadata": {},
   "outputs": [],
   "source": [
    "import pandas as pd\n",
    "import os\n",
    "import matplotlib.pyplot as plt\n",
    "import seaborn as sns"
   ]
  },
  {
   "cell_type": "markdown",
   "metadata": {},
   "source": [
    "### **DATA EXPLORATION**"
   ]
  },
  {
   "cell_type": "markdown",
   "metadata": {},
   "source": [
    "#### **Read data**"
   ]
  },
  {
   "cell_type": "markdown",
   "metadata": {},
   "source": [
    "The `films_data.csv` file is read and its content is loaded into a pandas DataFrame, preparing for exploration and preprocessing."
   ]
  },
  {
   "cell_type": "code",
   "execution_count": 74,
   "metadata": {},
   "outputs": [
    {
     "data": {
      "text/html": [
       "<div>\n",
       "<style scoped>\n",
       "    .dataframe tbody tr th:only-of-type {\n",
       "        vertical-align: middle;\n",
       "    }\n",
       "\n",
       "    .dataframe tbody tr th {\n",
       "        vertical-align: top;\n",
       "    }\n",
       "\n",
       "    .dataframe thead th {\n",
       "        text-align: right;\n",
       "    }\n",
       "</style>\n",
       "<table border=\"1\" class=\"dataframe\">\n",
       "  <thead>\n",
       "    <tr style=\"text-align: right;\">\n",
       "      <th></th>\n",
       "      <th>Rank</th>\n",
       "      <th>Title</th>\n",
       "      <th>Foreign %</th>\n",
       "      <th>Domestic %</th>\n",
       "      <th>Year</th>\n",
       "      <th>Genre</th>\n",
       "      <th>Director</th>\n",
       "      <th>Writer</th>\n",
       "      <th>Cast</th>\n",
       "    </tr>\n",
       "  </thead>\n",
       "  <tbody>\n",
       "    <tr>\n",
       "      <th>0</th>\n",
       "      <td>1</td>\n",
       "      <td>Avatar</td>\n",
       "      <td>73.1%</td>\n",
       "      <td>26.9%</td>\n",
       "      <td>2009</td>\n",
       "      <td>Action, Adventure, Fantasy, Sci-Fi</td>\n",
       "      <td>James Cameron</td>\n",
       "      <td>James Cameron</td>\n",
       "      <td>Sam Worthington, Zoe Saldana, Sigourney Weaver, Michelle Rodriguez</td>\n",
       "    </tr>\n",
       "    <tr>\n",
       "      <th>1</th>\n",
       "      <td>2</td>\n",
       "      <td>Avengers: Endgame</td>\n",
       "      <td>69.3%</td>\n",
       "      <td>30.7%</td>\n",
       "      <td>2019</td>\n",
       "      <td>Action, Adventure, Drama, Sci-Fi</td>\n",
       "      <td>Anthony Russo, Joe Russo</td>\n",
       "      <td>Christopher Markus, Stephen McFeely, Stan Lee, Jack Kirby, Joe Simon, Jack Kirby, Steve Englehar...</td>\n",
       "      <td>Robert Downey Jr., Chris Evans, Mark Ruffalo, Chris Hemsworth</td>\n",
       "    </tr>\n",
       "    <tr>\n",
       "      <th>2</th>\n",
       "      <td>3</td>\n",
       "      <td>Avatar: The Way of Water</td>\n",
       "      <td>70.5%</td>\n",
       "      <td>29.5%</td>\n",
       "      <td>2022</td>\n",
       "      <td>Action, Adventure, Fantasy, Sci-Fi</td>\n",
       "      <td>James Cameron</td>\n",
       "      <td>James Cameron, Rick Jaffa, Amanda Silver, James Cameron, Rick Jaffa, Amanda Silver, Josh Friedma...</td>\n",
       "      <td>Sam Worthington, Zoe Saldana, Sigourney Weaver, Stephen Lang</td>\n",
       "    </tr>\n",
       "    <tr>\n",
       "      <th>3</th>\n",
       "      <td>4</td>\n",
       "      <td>Titanic</td>\n",
       "      <td>70.2%</td>\n",
       "      <td>29.8%</td>\n",
       "      <td>1997</td>\n",
       "      <td>Drama, Romance</td>\n",
       "      <td>James Cameron</td>\n",
       "      <td>James Cameron</td>\n",
       "      <td>Leonardo DiCaprio, Kate Winslet, Billy Zane, Kathy Bates</td>\n",
       "    </tr>\n",
       "    <tr>\n",
       "      <th>4</th>\n",
       "      <td>5</td>\n",
       "      <td>Star Wars: Episode VII - The Force Awakens</td>\n",
       "      <td>54.8%</td>\n",
       "      <td>45.2%</td>\n",
       "      <td>2015</td>\n",
       "      <td>Action, Adventure, Sci-Fi</td>\n",
       "      <td>J.J. Abrams</td>\n",
       "      <td>Lawrence Kasdan, J.J. Abrams, Michael Arndt, George Lucas</td>\n",
       "      <td>Daisy Ridley, John Boyega, Oscar Isaac, Domhnall Gleeson</td>\n",
       "    </tr>\n",
       "  </tbody>\n",
       "</table>\n",
       "</div>"
      ],
      "text/plain": [
       "  Rank                                       Title Foreign % Domestic %  Year  \\\n",
       "0    1                                      Avatar     73.1%      26.9%  2009   \n",
       "1    2                           Avengers: Endgame     69.3%      30.7%  2019   \n",
       "2    3                    Avatar: The Way of Water     70.5%      29.5%  2022   \n",
       "3    4                                     Titanic     70.2%      29.8%  1997   \n",
       "4    5  Star Wars: Episode VII - The Force Awakens     54.8%      45.2%  2015   \n",
       "\n",
       "                                Genre                  Director  \\\n",
       "0  Action, Adventure, Fantasy, Sci-Fi             James Cameron   \n",
       "1    Action, Adventure, Drama, Sci-Fi  Anthony Russo, Joe Russo   \n",
       "2  Action, Adventure, Fantasy, Sci-Fi             James Cameron   \n",
       "3                      Drama, Romance             James Cameron   \n",
       "4           Action, Adventure, Sci-Fi               J.J. Abrams   \n",
       "\n",
       "                                                                                                Writer  \\\n",
       "0                                                                                        James Cameron   \n",
       "1  Christopher Markus, Stephen McFeely, Stan Lee, Jack Kirby, Joe Simon, Jack Kirby, Steve Englehar...   \n",
       "2  James Cameron, Rick Jaffa, Amanda Silver, James Cameron, Rick Jaffa, Amanda Silver, Josh Friedma...   \n",
       "3                                                                                        James Cameron   \n",
       "4                                            Lawrence Kasdan, J.J. Abrams, Michael Arndt, George Lucas   \n",
       "\n",
       "                                                                 Cast  \n",
       "0  Sam Worthington, Zoe Saldana, Sigourney Weaver, Michelle Rodriguez  \n",
       "1       Robert Downey Jr., Chris Evans, Mark Ruffalo, Chris Hemsworth  \n",
       "2        Sam Worthington, Zoe Saldana, Sigourney Weaver, Stephen Lang  \n",
       "3            Leonardo DiCaprio, Kate Winslet, Billy Zane, Kathy Bates  \n",
       "4            Daisy Ridley, John Boyega, Oscar Isaac, Domhnall Gleeson  "
      ]
     },
     "execution_count": 74,
     "metadata": {},
     "output_type": "execute_result"
    }
   ],
   "source": [
    "file = open('films_data.csv', 'r', encoding='utf-8-sig')\n",
    "\n",
    "data = {}\n",
    "first_line = file.readline().strip().split('\\t')\n",
    "for val in first_line:\n",
    "    data[val] = []\n",
    "\n",
    "for line in file:\n",
    "    line_vals = line.strip().split('\\t')   \n",
    "    for i in range(len(line_vals)):\n",
    "        data[first_line[i]].append(line_vals[i])\n",
    "        \n",
    "data_df = pd.DataFrame(data)\n",
    "\n",
    "data_df.head(5)"
   ]
  },
  {
   "cell_type": "markdown",
   "metadata": {},
   "source": [
    "#### **Meaning of each row**\n",
    "Each row represents a specific movie, detailing information about its release, performance, genre, and key contributors (director, writer, and cast)."
   ]
  },
  {
   "cell_type": "code",
   "execution_count": 75,
   "metadata": {},
   "outputs": [
    {
     "name": "stdout",
     "output_type": "stream",
     "text": [
      "Number of rows: 1000\n"
     ]
    }
   ],
   "source": [
    "n_row, n_col = data_df.shape\n",
    "print('Number of rows:', n_row)"
   ]
  },
  {
   "cell_type": "markdown",
   "metadata": {},
   "source": [
    "### **Meaning of each column**\n",
    "- `Ranks`: The film's rank in the top lifetime grosses.\n",
    "- `Titles`: The film's name.\n",
    "- `Foreign %`: The percentage of the foreign grosses in the film's worldwide grosses.\n",
    "- `Domestic %`: The percentage of the domestic grosses in the film's worldwide grosses.\n",
    "- `Years`: The year that the film was first released.\n",
    "- `Genres`: The genre(s) associated with each film.\n",
    "- `Directors`: The director(s) of each film.\n",
    "- `Writers`: The writer(s) credited for each film.\n",
    "- `Casts`: The main cast members of each film."
   ]
  },
  {
   "cell_type": "code",
   "execution_count": 76,
   "metadata": {},
   "outputs": [
    {
     "name": "stdout",
     "output_type": "stream",
     "text": [
      "Number of columns: 9\n"
     ]
    }
   ],
   "source": [
    "print('Number of columns:', n_col)"
   ]
  },
  {
   "cell_type": "markdown",
   "metadata": {},
   "source": [
    "### **Datatype of each column**"
   ]
  },
  {
   "cell_type": "code",
   "execution_count": 77,
   "metadata": {},
   "outputs": [
    {
     "data": {
      "text/plain": [
       "Rank          object\n",
       "Title         object\n",
       "Foreign %     object\n",
       "Domestic %    object\n",
       "Year          object\n",
       "Genre         object\n",
       "Director      object\n",
       "Writer        object\n",
       "Cast          object\n",
       "dtype: object"
      ]
     },
     "execution_count": 77,
     "metadata": {},
     "output_type": "execute_result"
    }
   ],
   "source": [
    "data_df.dtypes"
   ]
  },
  {
   "cell_type": "markdown",
   "metadata": {},
   "source": [
    "### **DATA PREPROCESSING**"
   ]
  },
  {
   "cell_type": "markdown",
   "metadata": {},
   "source": [
    "This step ensures the proper data types for numerical columns and restructures text-based columns (Genre, Director, Writer, Cast) into lists, making the data more suitable for further analysis:\n",
    "- Convert percentage columns: Convert `Foreign %` and `Domestic %` to numeric values by removing the '%' symbol and changing the data type to floats. If the value in these columns is '-', it indicates that the foreign gross accounts for 100% of the film's worldwide grosses, and the domestic gross is considered 0%.\n",
    "\n",
    "- Split genres: Split the values in `Genre` into separate columns or lists for better analysis of each genre individually.\n",
    "\n",
    "- `Director` and `Writer` parsing: If needed, split multiple directors or writers into lists to analyze individual contributions.\n",
    "\n",
    "- `Cast` parsing: Similarly, parse the `Cast` column into individual actor names or convert to lists, which will make it easier to analyze actor appearances across movies."
   ]
  },
  {
   "cell_type": "code",
   "execution_count": 78,
   "metadata": {},
   "outputs": [
    {
     "data": {
      "text/html": [
       "<div>\n",
       "<style scoped>\n",
       "    .dataframe tbody tr th:only-of-type {\n",
       "        vertical-align: middle;\n",
       "    }\n",
       "\n",
       "    .dataframe tbody tr th {\n",
       "        vertical-align: top;\n",
       "    }\n",
       "\n",
       "    .dataframe thead th {\n",
       "        text-align: right;\n",
       "    }\n",
       "</style>\n",
       "<table border=\"1\" class=\"dataframe\">\n",
       "  <thead>\n",
       "    <tr style=\"text-align: right;\">\n",
       "      <th></th>\n",
       "      <th>Rank</th>\n",
       "      <th>Title</th>\n",
       "      <th>Foreign %</th>\n",
       "      <th>Domestic %</th>\n",
       "      <th>Year</th>\n",
       "      <th>Genre</th>\n",
       "      <th>Director</th>\n",
       "      <th>Writer</th>\n",
       "      <th>Cast</th>\n",
       "    </tr>\n",
       "  </thead>\n",
       "  <tbody>\n",
       "    <tr>\n",
       "      <th>0</th>\n",
       "      <td>1</td>\n",
       "      <td>Avatar</td>\n",
       "      <td>73.1</td>\n",
       "      <td>26.9</td>\n",
       "      <td>2009</td>\n",
       "      <td>[Action, Adventure, Fantasy, Sci-Fi]</td>\n",
       "      <td>[James Cameron]</td>\n",
       "      <td>[James Cameron]</td>\n",
       "      <td>[Sam Worthington, Zoe Saldana, Sigourney Weaver, Michelle Rodriguez]</td>\n",
       "    </tr>\n",
       "    <tr>\n",
       "      <th>1</th>\n",
       "      <td>2</td>\n",
       "      <td>Avengers: Endgame</td>\n",
       "      <td>69.3</td>\n",
       "      <td>30.7</td>\n",
       "      <td>2019</td>\n",
       "      <td>[Action, Adventure, Drama, Sci-Fi]</td>\n",
       "      <td>[Anthony Russo, Joe Russo]</td>\n",
       "      <td>[Christopher Markus, Stephen McFeely, Stan Lee, Jack Kirby, Joe Simon, Jack Kirby, Steve Engleha...</td>\n",
       "      <td>[Robert Downey Jr., Chris Evans, Mark Ruffalo, Chris Hemsworth]</td>\n",
       "    </tr>\n",
       "    <tr>\n",
       "      <th>2</th>\n",
       "      <td>3</td>\n",
       "      <td>Avatar: The Way of Water</td>\n",
       "      <td>70.5</td>\n",
       "      <td>29.5</td>\n",
       "      <td>2022</td>\n",
       "      <td>[Action, Adventure, Fantasy, Sci-Fi]</td>\n",
       "      <td>[James Cameron]</td>\n",
       "      <td>[James Cameron, Rick Jaffa, Amanda Silver, James Cameron, Rick Jaffa, Amanda Silver, Josh Friedm...</td>\n",
       "      <td>[Sam Worthington, Zoe Saldana, Sigourney Weaver, Stephen Lang]</td>\n",
       "    </tr>\n",
       "    <tr>\n",
       "      <th>3</th>\n",
       "      <td>4</td>\n",
       "      <td>Titanic</td>\n",
       "      <td>70.2</td>\n",
       "      <td>29.8</td>\n",
       "      <td>1997</td>\n",
       "      <td>[Drama, Romance]</td>\n",
       "      <td>[James Cameron]</td>\n",
       "      <td>[James Cameron]</td>\n",
       "      <td>[Leonardo DiCaprio, Kate Winslet, Billy Zane, Kathy Bates]</td>\n",
       "    </tr>\n",
       "    <tr>\n",
       "      <th>4</th>\n",
       "      <td>5</td>\n",
       "      <td>Star Wars: Episode VII - The Force Awakens</td>\n",
       "      <td>54.8</td>\n",
       "      <td>45.2</td>\n",
       "      <td>2015</td>\n",
       "      <td>[Action, Adventure, Sci-Fi]</td>\n",
       "      <td>[J.J. Abrams]</td>\n",
       "      <td>[Lawrence Kasdan, J.J. Abrams, Michael Arndt, George Lucas]</td>\n",
       "      <td>[Daisy Ridley, John Boyega, Oscar Isaac, Domhnall Gleeson]</td>\n",
       "    </tr>\n",
       "    <tr>\n",
       "      <th>...</th>\n",
       "      <td>...</td>\n",
       "      <td>...</td>\n",
       "      <td>...</td>\n",
       "      <td>...</td>\n",
       "      <td>...</td>\n",
       "      <td>...</td>\n",
       "      <td>...</td>\n",
       "      <td>...</td>\n",
       "      <td>...</td>\n",
       "    </tr>\n",
       "    <tr>\n",
       "      <th>995</th>\n",
       "      <td>996</td>\n",
       "      <td>The Final Destination</td>\n",
       "      <td>64.3</td>\n",
       "      <td>35.7</td>\n",
       "      <td>2009</td>\n",
       "      <td>[Horror, Thriller]</td>\n",
       "      <td>[David R. Ellis]</td>\n",
       "      <td>[Eric Bress, Jeffrey Reddick]</td>\n",
       "      <td>[Nick Zano, Krista Allen, Andrew Fiscella, Bobby Campo]</td>\n",
       "    </tr>\n",
       "    <tr>\n",
       "      <th>996</th>\n",
       "      <td>997</td>\n",
       "      <td>Atlantis: The Lost Empire</td>\n",
       "      <td>54.8</td>\n",
       "      <td>45.2</td>\n",
       "      <td>2001</td>\n",
       "      <td>[Action, Adventure, Animation, Family, Fantasy, Sci-Fi]</td>\n",
       "      <td>[Gary Trousdale, Kirk Wise]</td>\n",
       "      <td>[Tab Murphy, Kirk Wise, Gary Trousdale, Joss Whedon, Bryce Zabel, Jackie Zabel, Tab Murphy, Davi...</td>\n",
       "      <td>[Michael J. Fox, Jim Varney, Corey Burton, Claudia Christian]</td>\n",
       "    </tr>\n",
       "    <tr>\n",
       "      <th>997</th>\n",
       "      <td>998</td>\n",
       "      <td>Inside Man</td>\n",
       "      <td>52.4</td>\n",
       "      <td>47.6</td>\n",
       "      <td>2006</td>\n",
       "      <td>[Crime, Drama, Mystery, Thriller]</td>\n",
       "      <td>[Spike Lee]</td>\n",
       "      <td>[Russell Gewirtz]</td>\n",
       "      <td>[Denzel Washington, Clive Owen, Jodie Foster, Christopher Plummer]</td>\n",
       "    </tr>\n",
       "    <tr>\n",
       "      <th>998</th>\n",
       "      <td>999</td>\n",
       "      <td>The Waterboy</td>\n",
       "      <td>13.2</td>\n",
       "      <td>86.8</td>\n",
       "      <td>1998</td>\n",
       "      <td>[Comedy, Sport]</td>\n",
       "      <td>[Frank Coraci]</td>\n",
       "      <td>[Tim Herlihy, Adam Sandler]</td>\n",
       "      <td>[Adam Sandler, Kathy Bates, Henry Winkler, Fairuza Balk]</td>\n",
       "    </tr>\n",
       "    <tr>\n",
       "      <th>999</th>\n",
       "      <td>1000</td>\n",
       "      <td>Coraline</td>\n",
       "      <td>37.1</td>\n",
       "      <td>62.9</td>\n",
       "      <td>2009</td>\n",
       "      <td>[Animation, Drama, Family, Fantasy]</td>\n",
       "      <td>[Henry Selick]</td>\n",
       "      <td>[Henry Selick, Neil Gaiman]</td>\n",
       "      <td>[Dakota Fanning, Teri Hatcher, John Hodgman, Jennifer Saunders]</td>\n",
       "    </tr>\n",
       "  </tbody>\n",
       "</table>\n",
       "<p>1000 rows × 9 columns</p>\n",
       "</div>"
      ],
      "text/plain": [
       "     Rank                                       Title  Foreign %  Domestic %  \\\n",
       "0       1                                      Avatar       73.1        26.9   \n",
       "1       2                           Avengers: Endgame       69.3        30.7   \n",
       "2       3                    Avatar: The Way of Water       70.5        29.5   \n",
       "3       4                                     Titanic       70.2        29.8   \n",
       "4       5  Star Wars: Episode VII - The Force Awakens       54.8        45.2   \n",
       "..    ...                                         ...        ...         ...   \n",
       "995   996                       The Final Destination       64.3        35.7   \n",
       "996   997                   Atlantis: The Lost Empire       54.8        45.2   \n",
       "997   998                                  Inside Man       52.4        47.6   \n",
       "998   999                                The Waterboy       13.2        86.8   \n",
       "999  1000                                    Coraline       37.1        62.9   \n",
       "\n",
       "     Year                                                    Genre  \\\n",
       "0    2009                     [Action, Adventure, Fantasy, Sci-Fi]   \n",
       "1    2019                       [Action, Adventure, Drama, Sci-Fi]   \n",
       "2    2022                     [Action, Adventure, Fantasy, Sci-Fi]   \n",
       "3    1997                                         [Drama, Romance]   \n",
       "4    2015                              [Action, Adventure, Sci-Fi]   \n",
       "..    ...                                                      ...   \n",
       "995  2009                                       [Horror, Thriller]   \n",
       "996  2001  [Action, Adventure, Animation, Family, Fantasy, Sci-Fi]   \n",
       "997  2006                        [Crime, Drama, Mystery, Thriller]   \n",
       "998  1998                                          [Comedy, Sport]   \n",
       "999  2009                      [Animation, Drama, Family, Fantasy]   \n",
       "\n",
       "                        Director  \\\n",
       "0                [James Cameron]   \n",
       "1     [Anthony Russo, Joe Russo]   \n",
       "2                [James Cameron]   \n",
       "3                [James Cameron]   \n",
       "4                  [J.J. Abrams]   \n",
       "..                           ...   \n",
       "995             [David R. Ellis]   \n",
       "996  [Gary Trousdale, Kirk Wise]   \n",
       "997                  [Spike Lee]   \n",
       "998               [Frank Coraci]   \n",
       "999               [Henry Selick]   \n",
       "\n",
       "                                                                                                  Writer  \\\n",
       "0                                                                                        [James Cameron]   \n",
       "1    [Christopher Markus, Stephen McFeely, Stan Lee, Jack Kirby, Joe Simon, Jack Kirby, Steve Engleha...   \n",
       "2    [James Cameron, Rick Jaffa, Amanda Silver, James Cameron, Rick Jaffa, Amanda Silver, Josh Friedm...   \n",
       "3                                                                                        [James Cameron]   \n",
       "4                                            [Lawrence Kasdan, J.J. Abrams, Michael Arndt, George Lucas]   \n",
       "..                                                                                                   ...   \n",
       "995                                                                        [Eric Bress, Jeffrey Reddick]   \n",
       "996  [Tab Murphy, Kirk Wise, Gary Trousdale, Joss Whedon, Bryce Zabel, Jackie Zabel, Tab Murphy, Davi...   \n",
       "997                                                                                    [Russell Gewirtz]   \n",
       "998                                                                          [Tim Herlihy, Adam Sandler]   \n",
       "999                                                                          [Henry Selick, Neil Gaiman]   \n",
       "\n",
       "                                                                     Cast  \n",
       "0    [Sam Worthington, Zoe Saldana, Sigourney Weaver, Michelle Rodriguez]  \n",
       "1         [Robert Downey Jr., Chris Evans, Mark Ruffalo, Chris Hemsworth]  \n",
       "2          [Sam Worthington, Zoe Saldana, Sigourney Weaver, Stephen Lang]  \n",
       "3              [Leonardo DiCaprio, Kate Winslet, Billy Zane, Kathy Bates]  \n",
       "4              [Daisy Ridley, John Boyega, Oscar Isaac, Domhnall Gleeson]  \n",
       "..                                                                    ...  \n",
       "995               [Nick Zano, Krista Allen, Andrew Fiscella, Bobby Campo]  \n",
       "996         [Michael J. Fox, Jim Varney, Corey Burton, Claudia Christian]  \n",
       "997    [Denzel Washington, Clive Owen, Jodie Foster, Christopher Plummer]  \n",
       "998              [Adam Sandler, Kathy Bates, Henry Winkler, Fairuza Balk]  \n",
       "999       [Dakota Fanning, Teri Hatcher, John Hodgman, Jennifer Saunders]  \n",
       "\n",
       "[1000 rows x 9 columns]"
      ]
     },
     "execution_count": 78,
     "metadata": {},
     "output_type": "execute_result"
    }
   ],
   "source": [
    "data_df['Rank'] = data_df['Rank'].str.replace(',', '').astype(int)\n",
    "\n",
    "data_df['Foreign %'] = data_df['Foreign %'].str.rstrip('%').astype(float)\n",
    "\n",
    "data_df['Domestic %'] = data_df['Domestic %'].apply(\n",
    "    lambda x: float(x.replace('<', '').rstrip('%')) if x != '-' else 0.0\n",
    ")\n",
    "\n",
    "data_df['Genre'] = data_df['Genre'].apply(lambda x: x.split(', ') if isinstance(x, str) else [])\n",
    "\n",
    "data_df['Director'] = data_df['Director'].apply(lambda x: x.split(', ') if isinstance(x, str) else [])\n",
    "\n",
    "data_df['Writer'] = data_df['Writer'].apply(lambda x: x.split(', ') if isinstance(x, str) else [])\n",
    "\n",
    "data_df['Cast'] = data_df['Cast'].apply(lambda x: x.split(', ') if isinstance(x, str) else [])\n",
    "data_df\n"
   ]
  },
  {
   "cell_type": "markdown",
   "metadata": {},
   "source": [
    "### **New datatype of each column**"
   ]
  },
  {
   "cell_type": "code",
   "execution_count": 79,
   "metadata": {},
   "outputs": [
    {
     "data": {
      "text/plain": [
       "Rank            int32\n",
       "Title          object\n",
       "Foreign %     float64\n",
       "Domestic %    float64\n",
       "Year           object\n",
       "Genre          object\n",
       "Director       object\n",
       "Writer         object\n",
       "Cast           object\n",
       "dtype: object"
      ]
     },
     "execution_count": 79,
     "metadata": {},
     "output_type": "execute_result"
    }
   ],
   "source": [
    "data_df.dtypes"
   ]
  },
  {
   "cell_type": "markdown",
   "metadata": {},
   "source": [
    "### **Check duplicated data**"
   ]
  },
  {
   "cell_type": "markdown",
   "metadata": {},
   "source": [
    "This step identifies and handles duplicate rows in the dataset by:\n",
    "- Normalize Data: Converts all text to lowercase, removes extra spaces, and sorts lists for consistency across rows.\n",
    "- Check for Duplicates: Applies normalization and checks for duplicate rows using the duplicated method.\n",
    "- Handle Duplicates:\n",
    "    - If duplicates are found:\n",
    "        + Counts the number of duplicate rows.\n",
    "        + Extracts and displays all duplicate rows for inspection.\n",
    "    - If no duplicates are found, it confirms the dataset has no duplicate data."
   ]
  },
  {
   "cell_type": "code",
   "execution_count": 80,
   "metadata": {},
   "outputs": [
    {
     "name": "stdout",
     "output_type": "stream",
     "text": [
      "No duplicated data found.\n"
     ]
    }
   ],
   "source": [
    "def normalize_data(row):\n",
    "    return row.apply(\n",
    "        lambda x: str(sorted([str(v).strip().lower() for v in x])) if isinstance(x, list) \n",
    "        else str(x).strip().lower()\n",
    "    )\n",
    "\n",
    "normalized_df = data_df.apply(normalize_data, axis=1)\n",
    "\n",
    "num_duplicated_rows = normalized_df.duplicated().sum()\n",
    "\n",
    "if num_duplicated_rows > 0:\n",
    "    duplicates = data_df[normalized_df.duplicated(keep=False)]\n",
    "    print(f\"The raw data has {num_duplicated_rows} duplicated rows.\")\n",
    "    print(\"Duplicated rows:\")\n",
    "    print(duplicates)\n",
    "else:\n",
    "    print(\"No duplicated data found.\")"
   ]
  },
  {
   "cell_type": "markdown",
   "metadata": {},
   "source": [
    "### **Check missing data**"
   ]
  },
  {
   "cell_type": "markdown",
   "metadata": {},
   "source": [
    "This step identifies and calculates the proportion of missing or empty data in the dataset to assess its impact on analysis and determine if further cleaning is needed:\n",
    "- Find rows with empty errays: Detects rows containing empty arrays (['']) in any column.\n",
    "- Count Missing Values: Counts the total number of empty arrays in the dataset.\n",
    "- Calculate Missing Ratio: Computes the percentage of missing data relative to the total number of elements (excluding NaN values).\n",
    "- Display Results: Prints the missing data ratio and shows rows with empty arrays for inspection."
   ]
  },
  {
   "cell_type": "code",
   "execution_count": 81,
   "metadata": {},
   "outputs": [
    {
     "name": "stdout",
     "output_type": "stream",
     "text": [
      "Missing ratio: 0.0222\n",
      "Rows with missing data:\n"
     ]
    },
    {
     "data": {
      "text/html": [
       "<div>\n",
       "<style scoped>\n",
       "    .dataframe tbody tr th:only-of-type {\n",
       "        vertical-align: middle;\n",
       "    }\n",
       "\n",
       "    .dataframe tbody tr th {\n",
       "        vertical-align: top;\n",
       "    }\n",
       "\n",
       "    .dataframe thead th {\n",
       "        text-align: right;\n",
       "    }\n",
       "</style>\n",
       "<table border=\"1\" class=\"dataframe\">\n",
       "  <thead>\n",
       "    <tr style=\"text-align: right;\">\n",
       "      <th></th>\n",
       "      <th>Rank</th>\n",
       "      <th>Title</th>\n",
       "      <th>Foreign %</th>\n",
       "      <th>Domestic %</th>\n",
       "      <th>Year</th>\n",
       "      <th>Genre</th>\n",
       "      <th>Director</th>\n",
       "      <th>Writer</th>\n",
       "      <th>Cast</th>\n",
       "    </tr>\n",
       "  </thead>\n",
       "  <tbody>\n",
       "    <tr>\n",
       "      <th>642</th>\n",
       "      <td>643</td>\n",
       "      <td>This Is It</td>\n",
       "      <td>73.1</td>\n",
       "      <td>26.9</td>\n",
       "      <td>2009</td>\n",
       "      <td>[Documentary, Music]</td>\n",
       "      <td>[Kenny Ortega]</td>\n",
       "      <td>[]</td>\n",
       "      <td>[Michael Jackson, Alex Al, Alexandra Apjarova, Nick Bass]</td>\n",
       "    </tr>\n",
       "    <tr>\n",
       "      <th>660</th>\n",
       "      <td>661</td>\n",
       "      <td>Taylor Swift: The Eras Tour</td>\n",
       "      <td>30.9</td>\n",
       "      <td>69.1</td>\n",
       "      <td>2023</td>\n",
       "      <td>[Documentary, Music, Musical]</td>\n",
       "      <td>[Sam Wrench]</td>\n",
       "      <td>[]</td>\n",
       "      <td>[Taylor Swift, Mike Meadows, Max Bernstein, Paul Sidoti]</td>\n",
       "    </tr>\n",
       "  </tbody>\n",
       "</table>\n",
       "</div>"
      ],
      "text/plain": [
       "     Rank                        Title  Foreign %  Domestic %  Year  \\\n",
       "642   643                   This Is It       73.1        26.9  2009   \n",
       "660   661  Taylor Swift: The Eras Tour       30.9        69.1  2023   \n",
       "\n",
       "                             Genre        Director Writer  \\\n",
       "642           [Documentary, Music]  [Kenny Ortega]     []   \n",
       "660  [Documentary, Music, Musical]    [Sam Wrench]     []   \n",
       "\n",
       "                                                          Cast  \n",
       "642  [Michael Jackson, Alex Al, Alexandra Apjarova, Nick Bass]  \n",
       "660   [Taylor Swift, Mike Meadows, Max Bernstein, Paul Sidoti]  "
      ]
     },
     "execution_count": 81,
     "metadata": {},
     "output_type": "execute_result"
    }
   ],
   "source": [
    "rows_with_empty_arrays = data_df[data_df.apply(lambda row: row.apply(lambda x: x == ['']).any(), axis=1)]\n",
    "\n",
    "missing_count = data_df.applymap(lambda x: x == ['']).sum().sum()  \n",
    "\n",
    "total_elements = data_df.size - data_df.isna().sum().sum()  \n",
    "\n",
    "missing_ratio = (missing_count / total_elements) * 100\n",
    "\n",
    "print(f\"Missing ratio: {missing_ratio:.4f}\")  \n",
    "print(\"Rows with missing data:\")\n",
    "rows_with_empty_arrays"
   ]
  },
  {
   "cell_type": "markdown",
   "metadata": {},
   "source": [
    "There's no duplicated data, but the missing ratio of all columns is 0.02%. We have to handle the missing data. The missing ratio is quite small, but it can affects the data accuracy if we delete the missing rows or fill them with \"Unknown\" tag. Therefore, a better way to handle them is to fill them with specific data entries for better accuracy in analysis, as these information can be easily found on the Internet."
   ]
  },
  {
   "cell_type": "code",
   "execution_count": 82,
   "metadata": {},
   "outputs": [
    {
     "data": {
      "text/html": [
       "<div>\n",
       "<style scoped>\n",
       "    .dataframe tbody tr th:only-of-type {\n",
       "        vertical-align: middle;\n",
       "    }\n",
       "\n",
       "    .dataframe tbody tr th {\n",
       "        vertical-align: top;\n",
       "    }\n",
       "\n",
       "    .dataframe thead th {\n",
       "        text-align: right;\n",
       "    }\n",
       "</style>\n",
       "<table border=\"1\" class=\"dataframe\">\n",
       "  <thead>\n",
       "    <tr style=\"text-align: right;\">\n",
       "      <th></th>\n",
       "      <th>Rank</th>\n",
       "      <th>Title</th>\n",
       "      <th>Foreign %</th>\n",
       "      <th>Domestic %</th>\n",
       "      <th>Year</th>\n",
       "      <th>Genre</th>\n",
       "      <th>Director</th>\n",
       "      <th>Writer</th>\n",
       "      <th>Cast</th>\n",
       "    </tr>\n",
       "  </thead>\n",
       "  <tbody>\n",
       "    <tr>\n",
       "      <th>642</th>\n",
       "      <td>643</td>\n",
       "      <td>This Is It</td>\n",
       "      <td>73.1</td>\n",
       "      <td>26.9</td>\n",
       "      <td>2009</td>\n",
       "      <td>[Documentary, Music]</td>\n",
       "      <td>[Kenny Ortega]</td>\n",
       "      <td>[Kenny Ortega]</td>\n",
       "      <td>[Michael Jackson, Alex Al, Alexandra Apjarova, Nick Bass]</td>\n",
       "    </tr>\n",
       "    <tr>\n",
       "      <th>660</th>\n",
       "      <td>661</td>\n",
       "      <td>Taylor Swift: The Eras Tour</td>\n",
       "      <td>30.9</td>\n",
       "      <td>69.1</td>\n",
       "      <td>2023</td>\n",
       "      <td>[Documentary, Music, Musical]</td>\n",
       "      <td>[Sam Wrench]</td>\n",
       "      <td>[Sam Wrench]</td>\n",
       "      <td>[Taylor Swift, Mike Meadows, Max Bernstein, Paul Sidoti]</td>\n",
       "    </tr>\n",
       "  </tbody>\n",
       "</table>\n",
       "</div>"
      ],
      "text/plain": [
       "     Rank                        Title  Foreign %  Domestic %  Year  \\\n",
       "642   643                   This Is It       73.1        26.9  2009   \n",
       "660   661  Taylor Swift: The Eras Tour       30.9        69.1  2023   \n",
       "\n",
       "                             Genre        Director          Writer  \\\n",
       "642           [Documentary, Music]  [Kenny Ortega]  [Kenny Ortega]   \n",
       "660  [Documentary, Music, Musical]    [Sam Wrench]    [Sam Wrench]   \n",
       "\n",
       "                                                          Cast  \n",
       "642  [Michael Jackson, Alex Al, Alexandra Apjarova, Nick Bass]  \n",
       "660   [Taylor Swift, Mike Meadows, Max Bernstein, Paul Sidoti]  "
      ]
     },
     "execution_count": 82,
     "metadata": {},
     "output_type": "execute_result"
    }
   ],
   "source": [
    "data_df['Writer'] = data_df.apply(\n",
    "    lambda row: ['Sam Wrench'] if row['Title'] == \"Taylor Swift: The Eras Tour\" and isinstance(row['Writer'], list) and (len(row['Writer']) == 0 or row['Writer'] == ['']) \n",
    "    else ['Kenny Ortega'] if row['Title'] == \"This Is It\" and isinstance(row['Writer'], list) and (len(row['Writer']) == 0 or row['Writer'] == [''])\n",
    "    else row['Writer'], axis=1\n",
    ")\n",
    "data_df[data_df['Title'].isin([\"Taylor Swift: The Eras Tour\", \"This Is It\"])]"
   ]
  },
  {
   "cell_type": "markdown",
   "metadata": {},
   "source": [
    "### **DATA DISTRIBUTION**"
   ]
  },
  {
   "cell_type": "markdown",
   "metadata": {},
   "source": [
    "#### **For numeric columns**"
   ]
  },
  {
   "cell_type": "markdown",
   "metadata": {},
   "source": [
    "To analyze the distribution of numeric columns in the dataset:\n",
    "- Select numeric columns.\n",
    "- Calculate key statistics\n",
    "    - Minimum (min): Smallest value in each column.\n",
    "    - Lower Quartile (Q1): 25th percentile value in each column.\n",
    "    - Median: Middle value (50th percentile) in each column.\n",
    "    - Upper Quartile (Q3): 75th percentile value in each column.\n",
    "    - Maximum (max): Largest value in each column.\n",
    "- Compiles these statistics into a DataFrame, rounding values for clarity.\n",
    "\n",
    "This will provide a comprehensive view of the range and distribution of numeric data, helping identify trends, outliers, or skewness in the data."
   ]
  },
  {
   "cell_type": "code",
   "execution_count": 83,
   "metadata": {},
   "outputs": [
    {
     "data": {
      "text/html": [
       "<div>\n",
       "<style scoped>\n",
       "    .dataframe tbody tr th:only-of-type {\n",
       "        vertical-align: middle;\n",
       "    }\n",
       "\n",
       "    .dataframe tbody tr th {\n",
       "        vertical-align: top;\n",
       "    }\n",
       "\n",
       "    .dataframe thead th {\n",
       "        text-align: right;\n",
       "    }\n",
       "</style>\n",
       "<table border=\"1\" class=\"dataframe\">\n",
       "  <thead>\n",
       "    <tr style=\"text-align: right;\">\n",
       "      <th></th>\n",
       "      <th>Rank</th>\n",
       "      <th>Foreign %</th>\n",
       "      <th>Domestic %</th>\n",
       "    </tr>\n",
       "  </thead>\n",
       "  <tbody>\n",
       "    <tr>\n",
       "      <th>min</th>\n",
       "      <td>1.0</td>\n",
       "      <td>13.2</td>\n",
       "      <td>0.0</td>\n",
       "    </tr>\n",
       "    <tr>\n",
       "      <th>lower_quartile</th>\n",
       "      <td>250.8</td>\n",
       "      <td>51.1</td>\n",
       "      <td>30.6</td>\n",
       "    </tr>\n",
       "    <tr>\n",
       "      <th>median</th>\n",
       "      <td>500.5</td>\n",
       "      <td>60.5</td>\n",
       "      <td>39.5</td>\n",
       "    </tr>\n",
       "    <tr>\n",
       "      <th>upper_quartile</th>\n",
       "      <td>750.2</td>\n",
       "      <td>69.4</td>\n",
       "      <td>48.9</td>\n",
       "    </tr>\n",
       "    <tr>\n",
       "      <th>max</th>\n",
       "      <td>1000.0</td>\n",
       "      <td>100.0</td>\n",
       "      <td>86.8</td>\n",
       "    </tr>\n",
       "  </tbody>\n",
       "</table>\n",
       "</div>"
      ],
      "text/plain": [
       "                  Rank  Foreign %  Domestic %\n",
       "min                1.0       13.2         0.0\n",
       "lower_quartile   250.8       51.1        30.6\n",
       "median           500.5       60.5        39.5\n",
       "upper_quartile   750.2       69.4        48.9\n",
       "max             1000.0      100.0        86.8"
      ]
     },
     "execution_count": 83,
     "metadata": {},
     "output_type": "execute_result"
    }
   ],
   "source": [
    "numeric_cols = data_df.select_dtypes(include='number')\n",
    "\n",
    "def lower_quartile(col):\n",
    "    return col.quantile(0.25)\n",
    "\n",
    "def upper_quartile(col):\n",
    "    return col.quantile(0.75)\n",
    "\n",
    "def median(col):\n",
    "  return col.median()\n",
    "min_vals = numeric_cols.min()\n",
    "max_vals = numeric_cols.max()\n",
    "lower_quartile_vals = numeric_cols.apply(lower_quartile)\n",
    "median_vals = numeric_cols.apply(median)\n",
    "upper_quartile_vals = numeric_cols.apply(upper_quartile)\n",
    "\n",
    "num_col_info_df = pd.DataFrame({\n",
    "    \"min\": min_vals,\n",
    "    \"lower_quartile\": lower_quartile_vals,\n",
    "    \"median\": median_vals,\n",
    "    \"upper_quartile\": upper_quartile_vals,\n",
    "    \"max\": max_vals\n",
    "}).T\n",
    "\n",
    "num_col_info_df = num_col_info_df.round(1)\n",
    "num_col_info_df"
   ]
  },
  {
   "cell_type": "markdown",
   "metadata": {},
   "source": [
    "Here, we visualize the distribution of numeric data."
   ]
  },
  {
   "cell_type": "code",
   "execution_count": 84,
   "metadata": {},
   "outputs": [
    {
     "data": {
      "image/png": "[encoded data removed]",
      "text/plain": [
       "<Figure size 1500x800 with 3 Axes>"
      ]
     },
     "metadata": {},
     "output_type": "display_data"
    }
   ],
   "source": [
    "plt.figure(figsize=(15, 8))\n",
    "\n",
    "for i, col in enumerate(numeric_cols.columns):\n",
    "    plt.subplot(2, len(numeric_cols.columns), i + 1)\n",
    "    sns.histplot(data_df[col], kde=True, bins=20, color='skyblue')\n",
    "    plt.title(f\"Distribution of {col}\")\n",
    "    plt.xlabel(col)\n",
    "    plt.ylabel('Frequency')"
   ]
  },
  {
   "cell_type": "markdown",
   "metadata": {},
   "source": [
    "There are some insights that can be gained from the histograms:\n",
    "- Skewness: The `Foreign %` distribution appears right-skewed, with most movies having a substantial foreign share of the gross, but a few films pushing the foreign percentage to the maximum. The `Domestic %` distribution likely has a left-skew, with most films having lower domestic earnings.\n",
    "- Outliers: There may be some outliers, particularly in the `Foreign %` column, where certain films could have nearly all their earnings from international markets (close to 100%).\n",
    "- Data imbalance: The domestic earnings seem to be less dominant in many films, with several having very low or zero domestic percentages. This could indicate a trend of international popularity for films in the dataset."
   ]
  },
  {
   "cell_type": "markdown",
   "metadata": {},
   "source": [
    "#### **For non-numeric columns**"
   ]
  },
  {
   "cell_type": "markdown",
   "metadata": {},
   "source": [
    "To analyze the distribution of non-numeric columns, we follow these steps."
   ]
  },
  {
   "cell_type": "markdown",
   "metadata": {},
   "source": [
    "- Here, set display options for better clarity in output."
   ]
  },
  {
   "cell_type": "code",
   "execution_count": 85,
   "metadata": {},
   "outputs": [],
   "source": [
    "pd.set_option('display.max_colwidth', 100) \n",
    "pd.set_option('display.max_columns', None) "
   ]
  },
  {
   "cell_type": "markdown",
   "metadata": {},
   "source": [
    "- Then, identify the number of unique values `num_values` in each categorical column and calculates the percentage of occurrences `value_ratios` for each distinct value."
   ]
  },
  {
   "cell_type": "code",
   "execution_count": 86,
   "metadata": {},
   "outputs": [
    {
     "data": {
      "text/html": [
       "<div>\n",
       "<style scoped>\n",
       "    .dataframe tbody tr th:only-of-type {\n",
       "        vertical-align: middle;\n",
       "    }\n",
       "\n",
       "    .dataframe tbody tr th {\n",
       "        vertical-align: top;\n",
       "    }\n",
       "\n",
       "    .dataframe thead th {\n",
       "        text-align: right;\n",
       "    }\n",
       "</style>\n",
       "<table border=\"1\" class=\"dataframe\">\n",
       "  <thead>\n",
       "    <tr style=\"text-align: right;\">\n",
       "      <th></th>\n",
       "      <th>num_values</th>\n",
       "      <th>value_ratios</th>\n",
       "    </tr>\n",
       "  </thead>\n",
       "  <tbody>\n",
       "    <tr>\n",
       "      <th>Title</th>\n",
       "      <td>988</td>\n",
       "      <td>{'Total Recall': 0.2, 'Hercules': 0.2, 'The Addams Family': 0.2, 'The Little Mermaid': 0.2, 'Tee...</td>\n",
       "    </tr>\n",
       "    <tr>\n",
       "      <th>Year</th>\n",
       "      <td>55</td>\n",
       "      <td>{'2019': 4.9, '2017': 4.9, '2016': 4.8, '2018': 4.7, '2014': 4.5, '2013': 4.3, '2012': 4.2, '201...</td>\n",
       "    </tr>\n",
       "    <tr>\n",
       "      <th>Genre</th>\n",
       "      <td>343</td>\n",
       "      <td>{'Action,Adventure,Sci-Fi': 6.4, 'Action,Adventure,Thriller': 3.1, 'Action,Adventure,Sci-Fi,Thri...</td>\n",
       "    </tr>\n",
       "    <tr>\n",
       "      <th>Director</th>\n",
       "      <td>535</td>\n",
       "      <td>{'Steven Spielberg': 2.2, 'Tim Burton': 1.0, 'Robert Zemeckis': 1.0, 'Ridley Scott': 1.0, 'Rolan...</td>\n",
       "    </tr>\n",
       "    <tr>\n",
       "      <th>Writer</th>\n",
       "      <td>931</td>\n",
       "      <td>{'M. Night Shyamalan': 0.6, 'Melissa Rosenberg,Stephenie Meyer': 0.4, 'Nancy Meyers': 0.4, 'Chri...</td>\n",
       "    </tr>\n",
       "    <tr>\n",
       "      <th>Cast</th>\n",
       "      <td>980</td>\n",
       "      <td>{'Keanu Reeves,Laurence Fishburne,Carrie-Anne Moss,Hugo Weaving': 0.3, 'Jennifer Lawrence,Josh H...</td>\n",
       "    </tr>\n",
       "  </tbody>\n",
       "</table>\n",
       "</div>"
      ],
      "text/plain": [
       "         num_values  \\\n",
       "Title           988   \n",
       "Year             55   \n",
       "Genre           343   \n",
       "Director        535   \n",
       "Writer          931   \n",
       "Cast            980   \n",
       "\n",
       "                                                                                                 value_ratios  \n",
       "Title     {'Total Recall': 0.2, 'Hercules': 0.2, 'The Addams Family': 0.2, 'The Little Mermaid': 0.2, 'Tee...  \n",
       "Year      {'2019': 4.9, '2017': 4.9, '2016': 4.8, '2018': 4.7, '2014': 4.5, '2013': 4.3, '2012': 4.2, '201...  \n",
       "Genre     {'Action,Adventure,Sci-Fi': 6.4, 'Action,Adventure,Thriller': 3.1, 'Action,Adventure,Sci-Fi,Thri...  \n",
       "Director  {'Steven Spielberg': 2.2, 'Tim Burton': 1.0, 'Robert Zemeckis': 1.0, 'Ridley Scott': 1.0, 'Rolan...  \n",
       "Writer    {'M. Night Shyamalan': 0.6, 'Melissa Rosenberg,Stephenie Meyer': 0.4, 'Nancy Meyers': 0.4, 'Chri...  \n",
       "Cast      {'Keanu Reeves,Laurence Fishburne,Carrie-Anne Moss,Hugo Weaving': 0.3, 'Jennifer Lawrence,Josh H...  "
      ]
     },
     "execution_count": 86,
     "metadata": {},
     "output_type": "execute_result"
    }
   ],
   "source": [
    "cat_col_info = {}\n",
    "\n",
    "for col in data_df.select_dtypes(exclude='number').columns:\n",
    "    non_missing_values = data_df[col].dropna()\n",
    "    non_missing_values = non_missing_values.apply(lambda x: ','.join(map(str, x)) if isinstance(x, list) else x)\n",
    "    if data_df[col].dtype.name == 'category' or data_df[col].dtype == 'object':  # Categorical columns\n",
    "        num_values = non_missing_values.nunique()\n",
    "\n",
    "    value_counts = non_missing_values.value_counts(normalize=True) * 100\n",
    "    value_ratios = value_counts.to_dict()\n",
    "\n",
    "    cat_col_info[col] = {\n",
    "        'num_values': num_values,\n",
    "        'value_ratios': value_ratios\n",
    "    }\n",
    "\n",
    "cat_col_info_df = pd.DataFrame(cat_col_info).T\n",
    "cat_col_info_df['value_ratios'] = cat_col_info_df['value_ratios'].apply(lambda x: {k: round(v, 1) for k, v in x.items()})\n",
    "cat_col_info_df"
   ]
  },
  {
   "cell_type": "markdown",
   "metadata": {},
   "source": [
    "As can be seen, the dataset consists of diverse values in these categorical columns, with a few entries being notably more common than others. For example, the most common genre combination is 'Action, Adventure, Sci-Fi', which makes up 6.4% of the films and the most common directors are Steven Spielberg, who makes up 2.2%.\n",
    "\n",
    "For the column `title`, in top 1000, there are some films with the same names. This can be explained as the films are remade by another crew and they can be considered as different films."
   ]
  },
  {
   "cell_type": "markdown",
   "metadata": {},
   "source": [
    "#### **Check constraints**"
   ]
  },
  {
   "cell_type": "markdown",
   "metadata": {},
   "source": [
    "This step checks the consistency of the `Foreign %` and `Domestic %` columns in the dataset."
   ]
  },
  {
   "cell_type": "markdown",
   "metadata": {},
   "source": [
    "- Check if the sum of `Foreign %` and `Domestic %` equals 100 for each row."
   ]
  },
  {
   "cell_type": "code",
   "execution_count": 87,
   "metadata": {},
   "outputs": [
    {
     "data": {
      "text/plain": [
       "False"
      ]
     },
     "execution_count": 87,
     "metadata": {},
     "output_type": "execute_result"
    }
   ],
   "source": [
    "def checking_grosses(df: pd.DataFrame) -> bool:\n",
    "    consistency_check = (df['Foreign %'] + df['Domestic %'] == 100)\n",
    "\n",
    "    return consistency_check.all()\n",
    "\n",
    "checking_grosses(data_df) == True"
   ]
  },
  {
   "cell_type": "markdown",
   "metadata": {},
   "source": [
    "- Calculate the total discrepancy in the dataset where the sum of `Foreign %` and `Domestic %` does not equal 100."
   ]
  },
  {
   "cell_type": "code",
   "execution_count": 88,
   "metadata": {},
   "outputs": [
    {
     "data": {
      "text/plain": [
       "-0.4999999999999716"
      ]
     },
     "execution_count": 88,
     "metadata": {},
     "output_type": "execute_result"
    }
   ],
   "source": [
    "sum(100 - (data_df[\"Foreign %\"] + data_df[\"Domestic %\"]))"
   ]
  },
  {
   "cell_type": "markdown",
   "metadata": {},
   "source": [
    "- To follow the constraint, correct the `Domestic %` by setting it to 100 - `Foreign %`."
   ]
  },
  {
   "cell_type": "code",
   "execution_count": 89,
   "metadata": {},
   "outputs": [],
   "source": [
    "data_df['Domestic %'] = 100 - data_df['Foreign %']"
   ]
  },
  {
   "cell_type": "markdown",
   "metadata": {},
   "source": [
    "-  Recheck the constraint again to ensure the data is now correct."
   ]
  },
  {
   "cell_type": "code",
   "execution_count": 90,
   "metadata": {},
   "outputs": [
    {
     "data": {
      "text/plain": [
       "True"
      ]
     },
     "execution_count": 90,
     "metadata": {},
     "output_type": "execute_result"
    }
   ],
   "source": [
    "checking_grosses(data_df) == True"
   ]
  },
  {
   "cell_type": "markdown",
   "metadata": {},
   "source": [
    "### **Save cleaned data**"
   ]
  },
  {
   "cell_type": "markdown",
   "metadata": {},
   "source": [
    "The cleaned `data_df` is then saved as \"cleaned_data.csv\" for further analysis."
   ]
  },
  {
   "cell_type": "code",
   "execution_count": 91,
   "metadata": {},
   "outputs": [],
   "source": [
    "def saveDataFrame2CSV(df: pd.DataFrame, save_path: str, sep: str = ',', encoding: str = 'utf-8') -> bool:\n",
    "    try:\n",
    "        df.to_csv(save_path, sep=sep, encoding=encoding, index=False)\n",
    "    except:\n",
    "        raise ModuleNotFoundError\n",
    "        # return False\n",
    "    return True"
   ]
  },
  {
   "cell_type": "code",
   "execution_count": 92,
   "metadata": {},
   "outputs": [
    {
     "data": {
      "text/plain": [
       "True"
      ]
     },
     "execution_count": 92,
     "metadata": {},
     "output_type": "execute_result"
    }
   ],
   "source": [
    "save_name = \"cleaned_data.csv\"\n",
    "saveDataFrame2CSV(data_df, os.path.join(\"./\", f\"{save_name}\"))"
   ]
  }
 ],
 "metadata": {
  "kernelspec": {
   "display_name": "min_ds-env",
   "language": "python",
   "name": "python3"
  },
  "language_info": {
   "codemirror_mode": {
    "name": "ipython",
    "version": 3
   },
   "file_extension": ".py",
   "mimetype": "text/x-python",
   "name": "python",
   "nbconvert_exporter": "python",
   "pygments_lexer": "ipython3",
   "version": "3.10.8"
  }
 },
 "nbformat": 4,
 "nbformat_minor": 2
}

{
 "cells": [
  {
   "cell_type": "markdown",
   "metadata": {},
   "source": [
    "# `DATA EXPLORATION`"
   ]
  },
  {
   "cell_type": "markdown",
   "metadata": {},
   "source": [
    "## **TOPIC: FILMS ANALYSIS**"
   ]
  },
  {
   "cell_type": "markdown",
   "metadata": {},
   "source": [
    "`Group ID`: 17\n",
    "\n",
    "`Group Member`:\n",
    "- 22127404_Tạ Minh Thư\n",
    "- 22127359_Chu Thúy Quỳnh\n",
    "- 22127302_Nguyễn Đăng Nhân"
   ]
  },
  {
   "cell_type": "markdown",
   "metadata": {},
   "source": [
    "### Read data"
   ]
  },
  {
   "cell_type": "code",
   "execution_count": 1,
   "metadata": {},
   "outputs": [],
   "source": [
    "file = open('films_data.csv', 'r', encoding='utf-8-sig')\n",
    "\n",
    "data = {}\n",
    "first_line = file.readline().strip().split('\\t')\n",
    "for val in first_line:\n",
    "    data[val] = []\n",
    "\n",
    "for line in file:\n",
    "    line_vals = line.strip().split('\\t')   \n",
    "    for i in range(len(line_vals)):\n",
    "        data[first_line[i]].append(line_vals[i])"
   ]
  },
  {
   "cell_type": "markdown",
   "metadata": {},
   "source": [
    "### The meaning of each row\n",
    "Each row represents a specific movie, detailing information about its release, performance, genre, and key contributors (director, writer, and cast)."
   ]
  },
  {
   "cell_type": "code",
   "execution_count": 2,
   "metadata": {},
   "outputs": [
    {
     "name": "stdout",
     "output_type": "stream",
     "text": [
      "Number of rows: 1000\n"
     ]
    }
   ],
   "source": [
    "print('Number of rows:', len(data['Rank']))"
   ]
  },
  {
   "cell_type": "markdown",
   "metadata": {},
   "source": [
    "### The meaning of each column\n",
    "- `Ranks`: The film's rank in the top lifetime grosses.\n",
    "- `Titles`: The film's name.\n",
    "- `Foreign %`: The percentage of the foreign grosses in the film's worldwide grosses.\n",
    "- `Domestic %`: The percentage of the domestic grosses in the film's worldwide grosses.\n",
    "- `Years`: The year that the film was first released.\n",
    "- `Genres`: The genre(s) associated with each film.\n",
    "- `Directors`: The director(s) of each film.\n",
    "- `Writers`: The writer(s) credited for each film.\n",
    "- `Casts`: The main cast members of each film."
   ]
  },
  {
   "cell_type": "code",
   "execution_count": 3,
   "metadata": {},
   "outputs": [
    {
     "name": "stdout",
     "output_type": "stream",
     "text": [
      "Number of columns: 9\n"
     ]
    }
   ],
   "source": [
    "print('Number of columns:', len(data))"
   ]
  },
  {
   "cell_type": "markdown",
   "metadata": {},
   "source": [
    "### The datatype of each column"
   ]
  },
  {
   "cell_type": "code",
   "execution_count": 4,
   "metadata": {},
   "outputs": [
    {
     "name": "stdout",
     "output_type": "stream",
     "text": [
      "Rank: <class 'str'>\n",
      "Title: <class 'str'>\n",
      "Foreign %: <class 'str'>\n",
      "Domestic %: <class 'str'>\n",
      "Year: <class 'str'>\n",
      "Genre: <class 'str'>\n",
      "Director: <class 'str'>\n",
      "Writer: <class 'str'>\n",
      "Cast: <class 'str'>\n"
     ]
    }
   ],
   "source": [
    "for col_name, col_value in data.items():\n",
    "    print(f'{col_name}: {type(col_value[0])}')\n"
   ]
  },
  {
   "cell_type": "markdown",
   "metadata": {},
   "source": [
    "### Preprocessing data"
   ]
  },
  {
   "cell_type": "markdown",
   "metadata": {},
   "source": [
    "- Convert Percentage Columns: Convert Foreign % and Domestic % to numeric values by removing the '%' symbol and changing the data type to floats. If the value in these columns is '-', it indicates that the foreign gross accounts for 100% of the film's worldwide grosses, and the domestic gross is considered 0%.\n",
    "\n",
    "- Standardize Year Data Type: Ensure Year is an integer for easy numerical analysis.\n",
    "\n",
    "- Split Genres: Split the values in Genre into separate columns or lists for better analysis of each genre individually.\n",
    "\n",
    "- Director and Writer Parsing: If needed, split multiple directors or writers into lists to analyze individual contributions.\n",
    "\n",
    "- Cast Parsing: Similarly, parse the Cast column into individual actor names or convert to lists, which will make it easier to analyze actor appearances across movies."
   ]
  },
  {
   "cell_type": "code",
   "execution_count": 5,
   "metadata": {},
   "outputs": [],
   "source": [
    "data['Rank'] = [int(rank.replace(',', '')) for rank in data['Rank']]\n",
    "\n",
    "data['Foreign %'] = [float(value.rstrip('%')) for value in data['Foreign %']]\n",
    "\n",
    "data['Domestic %'] = [\n",
    "    float(value.replace('<', '').rstrip('%')) if value != '-' else 0 \n",
    "    for value in data['Domestic %']\n",
    "]\n",
    "\n",
    "data['Year'] = [int(year) for year in data['Year']]\n",
    "\n",
    "data['Genre'] = [genres.split(', ') for genres in data['Genre']]\n",
    "\n",
    "data['Director'] = [directors.split(', ') for directors in data['Director']]\n",
    "\n",
    "data['Writer'] = [writers.split(', ') for writers in data['Writer']]\n",
    "\n",
    "\n",
    "data['Cast'] = [actors.split(', ') for actors in data['Cast']]\n"
   ]
  },
  {
   "cell_type": "markdown",
   "metadata": {},
   "source": [
    "### New datatype of each column"
   ]
  },
  {
   "cell_type": "code",
   "execution_count": 6,
   "metadata": {},
   "outputs": [
    {
     "name": "stdout",
     "output_type": "stream",
     "text": [
      "Rank: <class 'int'>\n",
      "Title: <class 'str'>\n",
      "Foreign %: <class 'float'>\n",
      "Domestic %: <class 'float'>\n",
      "Year: <class 'int'>\n",
      "Genre: <class 'list'>\n",
      "Director: <class 'list'>\n",
      "Writer: <class 'list'>\n",
      "Cast: <class 'list'>\n"
     ]
    }
   ],
   "source": [
    "for col_name, col_value in data.items():\n",
    "    print(f'{col_name}: {type(col_value[0])}')"
   ]
  },
  {
   "cell_type": "markdown",
   "metadata": {},
   "source": [
    "### Check duplicated data"
   ]
  },
  {
   "cell_type": "markdown",
   "metadata": {},
   "source": [
    "- `find_duplicates` takes one argument `data`, which is a dictionaryy where the key is the column name, and the value is a list of values for that column.\n",
    "- `rows`: transform the column-wise data into row-wise data. Each row become a tuple containing data from each column for a specific row.\n",
    "- A nested loop structure is used to compare each pair of rows:\n",
    "    - i: index of the first row\n",
    "    - j: index of the second row that is compared with row1.\n",
    "- `Normalization` is used to ensure consistent comparison between rows:\n",
    "    - If the element is a list, it is converted to lowercase, stripped of leading/trailing spaces, and sorted. \n",
    "    - If the element is not a list, it is simply converted to lowercase and stripped of spaces.\n",
    "- The pair of row indices `(i,j)` is used as the key in `duplicate_results`, and the original row data is stored as the value.\n",
    "- If no duplicates are found, print `No duplicated data found` and if any duplicates are found, save the column pair and the list of duplicate value in `duplicate_results`.\n",
    "- If duplicates are found, display the indices of the duplicated rows and the duplicated content."
   ]
  },
  {
   "cell_type": "code",
   "execution_count": null,
   "metadata": {},
   "outputs": [
    {
     "name": "stdout",
     "output_type": "stream",
     "text": [
      "No duplicated rows found\n"
     ]
    }
   ],
   "source": [
    "def find_duplicates(data):\n",
    "    rows = list(zip(*data.values()))\n",
    "    num_rows = len(rows)\n",
    "    duplicate_results = {}\n",
    "    \n",
    "    for i in range(num_rows):\n",
    "        for j in range(i + 1, num_rows):\n",
    "            row1 = rows[i]\n",
    "            row2 = rows[j]\n",
    "            normalized1 = [\n",
    "                sorted([str(v).strip().lower() for v in value]) if isinstance(value, list) else str(value).strip().lower()\n",
    "                for value in row1\n",
    "            ]\n",
    "            normalized2 = [\n",
    "                sorted([str(v).strip().lower() for v in value]) if isinstance(value, list) else str(value).strip().lower()\n",
    "                for value in row2\n",
    "            ]\n",
    "            if normalized1 == normalized2:\n",
    "                duplicate_results[(i, j)] = row1\n",
    "    \n",
    "    if not duplicate_results:\n",
    "        print(\"No duplicated data found\")\n",
    "    else:\n",
    "        for row_pair, duplicate in duplicate_results.items():\n",
    "            print(f\"Duplicate rows between indices {row_pair[0]} and {row_pair[1]}: {duplicate}\")\n",
    "\n",
    "    return duplicate_results\n",
    "\n",
    "duplicate_results = find_duplicates(data)"
   ]
  },
  {
   "cell_type": "markdown",
   "metadata": {},
   "source": [
    "## Check missing data"
   ]
  },
  {
   "cell_type": "markdown",
   "metadata": {},
   "source": [
    "- `check_missing_data` takes one argument `data`, which is a dictionary where the key is the column name, and the value is a list of values for that column.\n",
    "- `missing_data_results`: a dictionary to store the names of columns that have missing data.\n",
    "- `missing_ratio_results`: a dictionary to store the missing data ratio for each column.\n",
    "- `missing_indices`: a list to store the indices of missing values in the current column.\n",
    "- The `for` loop iterates over each value in the column, using `enumerate` to get both the index and the value.\n",
    "- Missing data conditions:\n",
    "  + The value is `None`.\n",
    "  + The value is an empty string or a string with only whitespace.\n",
    "- If a missing value is found, its index is appended to `missing_indices`.\n",
    "- If any missing indices are found for the current column, they are added to `missing_data_results`, with the column name as the key and the list of missing indices as the value.\n",
    "- Missing data ratio:\n",
    "  + For each column, the ratio of missing data is calculated by dividing the number of missing values by the total number of values in the column.\n",
    "  + This ratio is saved in `missing_ratio_results` as a floating-point value.\n",
    "- If no missing data is found, the function prints `\"No missing data found\"`. On the other hand, if missing data is present, it displays the column name and the indices where the missing data is located."
   ]
  },
  {
   "cell_type": "code",
   "execution_count": 8,
   "metadata": {},
   "outputs": [
    {
     "name": "stdout",
     "output_type": "stream",
     "text": [
      "No missing data found\n",
      "\n",
      "Missing ratio per column:\n",
      "Column 'Rank' missing ratio: 0.00%\n",
      "Column 'Title' missing ratio: 0.00%\n",
      "Column 'Foreign %' missing ratio: 0.00%\n",
      "Column 'Domestic %' missing ratio: 0.00%\n",
      "Column 'Year' missing ratio: 0.00%\n",
      "Column 'Genre' missing ratio: 0.00%\n",
      "Column 'Director' missing ratio: 0.00%\n",
      "Column 'Writer' missing ratio: 0.00%\n",
      "Column 'Cast' missing ratio: 0.00%\n"
     ]
    }
   ],
   "source": [
    "def check_missing_data(data):\n",
    "    columns = list(data.keys())\n",
    "    missing_data = {}\n",
    "    missing_ratio_results = {}\n",
    "\n",
    "    for col in columns:\n",
    "        col_values = data[col]\n",
    "        missing_indices = []\n",
    "\n",
    "        for index, value in enumerate(col_values):\n",
    "            if value is None or (isinstance(value, str) and value.strip() == ''):\n",
    "                missing_indices.append(index)\n",
    "                \n",
    "        if missing_indices:\n",
    "            missing_data[col] = missing_indices\n",
    "        missing_ratio = len(missing_indices) / len(col_values)\n",
    "        missing_ratio_results[col] = missing_ratio\n",
    "\n",
    "    if not missing_data:\n",
    "        print(\"No missing data found\")\n",
    "    \n",
    "    for col, indices in missing_data.items():\n",
    "        print(f\"Missing data in column '{col}' at indices: {indices}\")\n",
    "    print(\"\\nMissing ratio per column:\")\n",
    "    \n",
    "    for col, ratio in missing_ratio_results.items():\n",
    "        print(f\"Column '{col}' missing ratio: {ratio:.2%}\") \n",
    "        \n",
    "    return missing_data, missing_ratio_results\n",
    "missing_data, missing_ratio_results = check_missing_data(data)"
   ]
  },
  {
   "cell_type": "markdown",
   "metadata": {},
   "source": [
    "- Because of the missing ratio of all columns is 0.00% and there's no duplicated data, it means there is no missing data. The dataset is ready for analysis without the need for imputation or data cleaning related to missing values or duplicated data."
   ]
  }
 ],
 "metadata": {
  "kernelspec": {
   "display_name": "min_ds-env",
   "language": "python",
   "name": "python3"
  },
  "language_info": {
   "codemirror_mode": {
    "name": "ipython",
    "version": 3
   },
   "file_extension": ".py",
   "mimetype": "text/x-python",
   "name": "python",
   "nbconvert_exporter": "python",
   "pygments_lexer": "ipython3",
   "version": "3.10.8"
  }
 },
 "nbformat": 4,
 "nbformat_minor": 2
}

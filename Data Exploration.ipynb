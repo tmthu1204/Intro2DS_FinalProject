{
 "cells": [
  {
   "cell_type": "markdown",
   "metadata": {},
   "source": [
    "# `DATA EXPLORATION`"
   ]
  },
  {
   "cell_type": "markdown",
   "metadata": {},
   "source": [
    "## **TOPIC: FILMS ANALYSIS**"
   ]
  },
  {
   "cell_type": "markdown",
   "metadata": {},
   "source": [
    "`Group ID`: 17\n",
    "\n",
    "`Group Member`:\n",
    "- 22127404_Tạ Minh Thư\n",
    "- 22127359_Chu Thúy Quỳnh\n",
    "- 22127302_Nguyễn Đăng Nhân"
   ]
  },
  {
   "cell_type": "markdown",
   "metadata": {},
   "source": [
    "### Read data"
   ]
  },
  {
   "cell_type": "code",
   "execution_count": 16,
   "metadata": {},
   "outputs": [],
   "source": [
    "file = open('films_data.csv', 'r', encoding='utf-8-sig')\n",
    "\n",
    "data = {}\n",
    "first_line = file.readline().strip().split('\\t')\n",
    "for val in first_line:\n",
    "    data[val] = []\n",
    "\n",
    "for line in file:\n",
    "    line_vals = line.strip().split('\\t')   \n",
    "    for i in range(len(line_vals)):\n",
    "        data[first_line[i]].append(line_vals[i])"
   ]
  },
  {
   "cell_type": "markdown",
   "metadata": {},
   "source": [
    "### The meaning of each row\n",
    "Each row represents a specific movie, detailing information about its release, performance, genre, and key contributors (director, writer, and cast)."
   ]
  },
  {
   "cell_type": "code",
   "execution_count": 7,
   "metadata": {},
   "outputs": [
    {
     "name": "stdout",
     "output_type": "stream",
     "text": [
      "Number of rows: 1000\n"
     ]
    }
   ],
   "source": [
    "print('Number of rows:', len(data['Rank']))"
   ]
  },
  {
   "cell_type": "markdown",
   "metadata": {},
   "source": [
    "### The meaning of each column\n",
    "- `Ranks`: The film's rank in the top lifetime grosses.\n",
    "- `Titles`: The film's name.\n",
    "- `Foreign %`: The percentage of the foreign grosses in the film's worldwide grosses.\n",
    "- `Domestic %`: The percentage of the domestic grosses in the film's worldwide grosses.\n",
    "- `Years`: The year that the film was first released.\n",
    "- `Genres`: The genre(s) associated with each film.\n",
    "- `Directors`: The director(s) of each film.\n",
    "- `Writers`: The writer(s) credited for each film.\n",
    "- `Casts`: The main cast members of each film."
   ]
  },
  {
   "cell_type": "code",
   "execution_count": 8,
   "metadata": {},
   "outputs": [
    {
     "name": "stdout",
     "output_type": "stream",
     "text": [
      "Number of columns: 9\n"
     ]
    }
   ],
   "source": [
    "print('Number of columns:', len(data))"
   ]
  },
  {
   "cell_type": "markdown",
   "metadata": {},
   "source": [
    "### The datatype of each column"
   ]
  },
  {
   "cell_type": "code",
   "execution_count": 9,
   "metadata": {},
   "outputs": [
    {
     "name": "stdout",
     "output_type": "stream",
     "text": [
      "Rank: <class 'str'>\n",
      "Title: <class 'str'>\n",
      "Foreign %: <class 'str'>\n",
      "Domestic %: <class 'str'>\n",
      "Year: <class 'str'>\n",
      "Genre: <class 'str'>\n",
      "Director: <class 'str'>\n",
      "Writer: <class 'str'>\n",
      "Cast: <class 'str'>\n"
     ]
    }
   ],
   "source": [
    "for col_name, col_value in data.items():\n",
    "    print(f'{col_name}: {type(col_value[0])}')\n"
   ]
  },
  {
   "cell_type": "markdown",
   "metadata": {},
   "source": [
    "### Preprocessing data"
   ]
  },
  {
   "cell_type": "markdown",
   "metadata": {},
   "source": [
    "- Convert Percentage Columns: Convert Foreign % and Domestic % to numeric values by removing the '%' symbol and changing the data type to floats. If the value in these columns is '-', it indicates that the foreign gross accounts for 100% of the film's worldwide grosses, and the domestic gross is considered 0%.\n",
    "\n",
    "- Standardize Year Data Type: Ensure Year is an integer for easy numerical analysis.\n",
    "\n",
    "- Split Genres: Split the values in Genre into separate columns or lists for better analysis of each genre individually.\n",
    "\n",
    "- Director and Writer Parsing: If needed, split multiple directors or writers into lists to analyze individual contributions.\n",
    "\n",
    "- Cast Parsing: Similarly, parse the Cast column into individual actor names or convert to lists, which will make it easier to analyze actor appearances across movies."
   ]
  },
  {
   "cell_type": "code",
   "execution_count": 10,
   "metadata": {},
   "outputs": [],
   "source": [
    "data['Rank'] = [int(rank.replace(',', '')) for rank in data['Rank']]\n",
    "\n",
    "data['Foreign %'] = [float(value.rstrip('%')) for value in data['Foreign %']]\n",
    "\n",
    "data['Domestic %'] = [\n",
    "    float(value.replace('<', '').rstrip('%')) if value != '-' else 0 \n",
    "    for value in data['Domestic %']\n",
    "]\n",
    "\n",
    "data['Year'] = [int(year) for year in data['Year']]\n",
    "\n",
    "data['Genre'] = [genres.split(', ') for genres in data['Genre']]\n",
    "\n",
    "data['Director'] = [directors.split(', ') for directors in data['Director']]\n",
    "\n",
    "data['Writer'] = [writers.split(', ') for writers in data['Writer']]\n",
    "\n",
    "\n",
    "data['Cast'] = [actors.split(', ') for actors in data['Cast']]\n"
   ]
  },
  {
   "cell_type": "markdown",
   "metadata": {},
   "source": [
    "### New datatype of each column"
   ]
  },
  {
   "cell_type": "code",
   "execution_count": 11,
   "metadata": {},
   "outputs": [
    {
     "name": "stdout",
     "output_type": "stream",
     "text": [
      "Rank: <class 'int'>\n",
      "Title: <class 'str'>\n",
      "Foreign %: <class 'float'>\n",
      "Domestic %: <class 'float'>\n",
      "Year: <class 'int'>\n",
      "Genre: <class 'list'>\n",
      "Director: <class 'list'>\n",
      "Writer: <class 'list'>\n",
      "Cast: <class 'list'>\n"
     ]
    }
   ],
   "source": [
    "for col_name, col_value in data.items():\n",
    "    print(f'{col_name}: {type(col_value[0])}')"
   ]
  },
  {
   "cell_type": "markdown",
   "metadata": {},
   "source": [
    "### Check missing and duplicate data"
   ]
  },
  {
   "cell_type": "code",
   "execution_count": 23,
   "metadata": {},
   "outputs": [
    {
     "name": "stdout",
     "output_type": "stream",
     "text": [
      "Duplicates between Foreign % and Domestic %: ['50%']\n",
      "Duplicates between Director and Writer: ['James Cameron', 'James Cameron', 'Brad Bird', 'George Lucas', 'George Lucas', 'Christopher Nolan', 'George Lucas', 'M. Night Shyamalan', 'Brad Bird', 'Christopher Nolan', 'Damien Chazelle', 'Luc Besson', 'Stephen Sommers', 'Quentin Tarantino', 'M. Night Shyamalan', 'Quentin Tarantino', 'Christopher Nolan', 'Yang Song, Chiyu Zhang', 'Quentin Tarantino', 'M. Night Shyamalan', 'Rian Johnson', 'Paul W.S. Anderson', 'Rawson Marshall Thurber', 'Sylvester Stallone', 'Paul W.S. Anderson', 'Stephen Sommers', 'Amy Heckerling', 'Neill Blomkamp', 'M. Night Shyamalan', 'Cameron Crowe', 'Nancy Meyers', 'J.J. Abrams', 'Stanley Tong', 'M. Night Shyamalan', 'Jordan Peele', 'Han Han', 'Jordan Peele', 'Simon Kinberg', 'Richard Curtis', 'M. Night Shyamalan', 'Paul W.S. Anderson', 'Paul Feig', 'Da-Mo Peng, Fei Yan', 'Edgar Wright', 'Michael Moore', 'Judd Apatow', 'Nancy Meyers', 'Parker Finn', 'David Ayer', 'Alejandro Amenábar', 'Nancy Meyers', 'Marc Lawrence', 'Robert Rodriguez', 'Nancy Meyers', 'Oren Peli', 'John Krasinski', 'Felix Chong', 'Michael Mann']\n"
     ]
    }
   ],
   "source": [
    "def find_duplicates(data):\n",
    "    columns = list(data.keys())  \n",
    "    num_columns = len(columns)\n",
    "    \n",
    "    duplicate_results = {}\n",
    "    \n",
    "    for i in range(num_columns):\n",
    "        for j in range(i + 1, num_columns):\n",
    "            col1 = columns[i]\n",
    "            col2 = columns[j]\n",
    "            \n",
    "            col1_values = data[col1]\n",
    "            col2_values = data[col2]\n",
    "            \n",
    "            duplicates = []\n",
    "            \n",
    "            for value1, value2 in zip(col1_values, col2_values):\n",
    "                if isinstance(value1, list) and isinstance(value2, list):\n",
    "                    if sorted([str(v).strip().lower() for v in value1]) == sorted([str(v).strip().lower() for v in value2]):\n",
    "                        duplicates.append(value1)\n",
    "                elif str(value1).strip().lower() == str(value2).strip().lower():\n",
    "                    duplicates.append(value1)\n",
    "            \n",
    "            if duplicates:\n",
    "                duplicate_results[(col1, col2)] = duplicates\n",
    "    \n",
    "    if not duplicate_results:\n",
    "        print(\"No duplicated data found\")\n",
    "    else:\n",
    "        for col_pair, duplicates in duplicate_results.items():\n",
    "            print(f\"Duplicates between {col_pair[0]} and {col_pair[1]}: {duplicates}\")\n",
    "\n",
    "    return duplicate_results\n",
    "\n",
    "duplicate_results = find_duplicates(data)"
   ]
  },
  {
   "cell_type": "markdown",
   "metadata": {},
   "source": [
    "## Check missing data"
   ]
  },
  {
   "cell_type": "code",
   "execution_count": null,
   "metadata": {},
   "outputs": [],
   "source": []
  }
 ],
 "metadata": {
  "kernelspec": {
   "display_name": "min_ds-env",
   "language": "python",
   "name": "python3"
  },
  "language_info": {
   "codemirror_mode": {
    "name": "ipython",
    "version": 3
   },
   "file_extension": ".py",
   "mimetype": "text/x-python",
   "name": "python",
   "nbconvert_exporter": "python",
   "pygments_lexer": "ipython3",
   "version": "3.10.8"
  }
 },
 "nbformat": 4,
 "nbformat_minor": 2
}

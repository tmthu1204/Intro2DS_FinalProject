{
 "cells": [
  {
   "cell_type": "markdown",
   "metadata": {},
   "source": [
    "# `DATA EXPLORATION`"
   ]
  },
  {
   "cell_type": "markdown",
   "metadata": {},
   "source": [
    "## **TOPIC: FILMS ANALYSIS**"
   ]
  },
  {
   "cell_type": "markdown",
   "metadata": {},
   "source": [
    "`Group ID`: 17\n",
    "\n",
    "`Group Member`:\n",
    "- 22127404_Tạ Minh Thư\n",
    "- 22127359_Chu Thúy Quỳnh\n",
    "- 22127302_Nguyễn Đăng Nhân"
   ]
  },
  {
   "cell_type": "markdown",
   "metadata": {},
   "source": [
    "### Read data"
   ]
  },
  {
   "cell_type": "code",
   "execution_count": 1,
   "metadata": {},
   "outputs": [],
   "source": [
    "file = open('films_data.csv', 'r', encoding='utf-8-sig')\n",
    "\n",
    "data = {}\n",
    "first_line = file.readline().strip().split('\\t')\n",
    "for val in first_line:\n",
    "    data[val] = []\n",
    "\n",
    "for line in file:\n",
    "    line_vals = line.strip().split('\\t')   \n",
    "    for i in range(len(line_vals)):\n",
    "        data[first_line[i]].append(line_vals[i])"
   ]
  },
  {
   "cell_type": "markdown",
   "metadata": {},
   "source": [
    "### The meaning of each row\n",
    "Each row represents a specific movie, detailing information about its release, performance, genre, and key contributors (director, writer, and cast)."
   ]
  },
  {
   "cell_type": "code",
   "execution_count": 2,
   "metadata": {},
   "outputs": [
    {
     "name": "stdout",
     "output_type": "stream",
     "text": [
      "Number of rows: 1000\n"
     ]
    }
   ],
   "source": [
    "print('Number of rows:', len(data['Rank']))"
   ]
  },
  {
   "cell_type": "markdown",
   "metadata": {},
   "source": [
    "### The meaning of each column\n",
    "- `Ranks`: The film's rank in the top lifetime grosses.\n",
    "- `Titles`: The film's name.\n",
    "- `Foreign %`: The percentage of the foreign grosses in the film's worldwide grosses.\n",
    "- `Domestic %`: The percentage of the domestic grosses in the film's worldwide grosses.\n",
    "- `Years`: The year that the film was first released.\n",
    "- `Genres`: The genre(s) associated with each film.\n",
    "- `Directors`: The director(s) of each film.\n",
    "- `Writers`: The writer(s) credited for each film.\n",
    "- `Casts`: The main cast members of each film."
   ]
  },
  {
   "cell_type": "code",
   "execution_count": 3,
   "metadata": {},
   "outputs": [
    {
     "name": "stdout",
     "output_type": "stream",
     "text": [
      "Number of columns: 9\n"
     ]
    }
   ],
   "source": [
    "print('Number of columns:', len(data))"
   ]
  },
  {
   "cell_type": "markdown",
   "metadata": {},
   "source": [
    "### The datatype of each column"
   ]
  },
  {
   "cell_type": "code",
   "execution_count": 4,
   "metadata": {},
   "outputs": [
    {
     "name": "stdout",
     "output_type": "stream",
     "text": [
      "Rank: <class 'str'>\n",
      "Title: <class 'str'>\n",
      "Foreign %: <class 'str'>\n",
      "Domestic %: <class 'str'>\n",
      "Year: <class 'str'>\n",
      "Genre: <class 'str'>\n",
      "Director: <class 'str'>\n",
      "Writer: <class 'str'>\n",
      "Cast: <class 'str'>\n"
     ]
    }
   ],
   "source": [
    "for col_name, col_value in data.items():\n",
    "    print(f'{col_name}: {type(col_value[0])}')\n"
   ]
  },
  {
   "cell_type": "markdown",
   "metadata": {},
   "source": [
    "### Preprocessing data"
   ]
  },
  {
   "cell_type": "markdown",
   "metadata": {},
   "source": [
    "- Convert Percentage Columns: Convert Foreign % and Domestic % to numeric values by removing the '%' symbol and changing the data type to floats. If the value in these columns is '-', it indicates that the foreign gross accounts for 100% of the film's worldwide grosses, and the domestic gross is considered 0%.\n",
    "\n",
    "- Standardize Year Data Type: Ensure Year is an integer for easy numerical analysis.\n",
    "\n",
    "- Split Genres: Split the values in Genre into separate columns or lists for better analysis of each genre individually.\n",
    "\n",
    "- Director and Writer Parsing: If needed, split multiple directors or writers into lists to analyze individual contributions.\n",
    "\n",
    "- Cast Parsing: Similarly, parse the Cast column into individual actor names or convert to lists, which will make it easier to analyze actor appearances across movies."
   ]
  },
  {
   "cell_type": "code",
   "execution_count": 5,
   "metadata": {},
   "outputs": [],
   "source": [
    "data['Rank'] = [int(rank.replace(',', '')) for rank in data['Rank']]\n",
    "\n",
    "data['Foreign %'] = [float(value.rstrip('%')) for value in data['Foreign %']]\n",
    "\n",
    "data['Domestic %'] = [\n",
    "    float(value.replace('<', '').rstrip('%')) if value != '-' else 0 \n",
    "    for value in data['Domestic %']\n",
    "]\n",
    "\n",
    "data['Year'] = [int(year) for year in data['Year']]\n",
    "\n",
    "data['Genre'] = [genres.split(', ') for genres in data['Genre']]\n",
    "\n",
    "data['Director'] = [directors.split(', ') for directors in data['Director']]\n",
    "\n",
    "data['Writer'] = [writers.split(', ') for writers in data['Writer']]\n",
    "\n",
    "\n",
    "data['Cast'] = [actors.split(', ') for actors in data['Cast']]\n"
   ]
  },
  {
   "cell_type": "markdown",
   "metadata": {},
   "source": [
    "### New datatype of each column"
   ]
  },
  {
   "cell_type": "code",
   "execution_count": 6,
   "metadata": {},
   "outputs": [
    {
     "name": "stdout",
     "output_type": "stream",
     "text": [
      "Rank: <class 'int'>\n",
      "Title: <class 'str'>\n",
      "Foreign %: <class 'float'>\n",
      "Domestic %: <class 'float'>\n",
      "Year: <class 'int'>\n",
      "Genre: <class 'list'>\n",
      "Director: <class 'list'>\n",
      "Writer: <class 'list'>\n",
      "Cast: <class 'list'>\n"
     ]
    }
   ],
   "source": [
    "for col_name, col_value in data.items():\n",
    "    print(f'{col_name}: {type(col_value[0])}')"
   ]
  },
  {
   "cell_type": "markdown",
   "metadata": {},
   "source": [
    "### Check duplicate data"
   ]
  },
  {
   "cell_type": "markdown",
   "metadata": {},
   "source": [
    "- `find_duplicates(data)` accepts a data object, which is a dictionary where the key is the column name, and the value is a list of values corresponding to that column.\n",
    "- `columns`: A list of column names (keys from the data dictionary).\n",
    "- `num_columns`: The number of columns in data.\n",
    "- Two nested for loops to iterate through each pair of columns `(col1, col2)` without repeating combinations.\n",
    "- `col1` and `col2` represent the names of the columns being compared.\n",
    "- Then retrieve the list of values for each column.\n",
    "- Initialize `duplicates` to store any values that are duplicated between the two columns.\n",
    "- Use `zip()` to iterate through each pair of values from the two columns.\n",
    "- If `value1` and `value2` are lists:\n",
    "    - Convert the values in the lists to lowercase, remove extra spaces, and sort them.\n",
    "    - If they are identical after sorting, add value1 to the duplicates list.\n",
    "- If value1 and value2 are not lists:\n",
    "    - Compare the two values after converting them to lowercase and trimming whitespace.\n",
    "    - If they match, add value1 to duplicates.\n",
    "- If no duplicates are found, print `No duplicated data found` and if any duplicates are found, save the column pair and the list of duplicate value in `duplicate_results`.\n",
    "- If duplicates are found, display each pair of columns with duplicate values and the list of those duplicates.\n",
    "- Returns a dictionary containing information about the column pairs with duplicate values and the duplicates found between them."
   ]
  },
  {
   "cell_type": "code",
   "execution_count": 7,
   "metadata": {},
   "outputs": [
    {
     "name": "stdout",
     "output_type": "stream",
     "text": [
      "Duplicates between Foreign % and Domestic %: [50.0]\n",
      "Duplicates between Director and Writer: [['James Cameron'], ['James Cameron'], ['Brad Bird'], ['George Lucas'], ['George Lucas'], ['Christopher Nolan'], ['George Lucas'], ['M. Night Shyamalan'], ['Brad Bird'], ['Christopher Nolan'], ['Damien Chazelle'], ['Luc Besson'], ['Lana Wachowski', 'Lilly Wachowski'], ['Stephen Sommers'], ['Quentin Tarantino'], ['M. Night Shyamalan'], ['Quentin Tarantino'], ['Christopher Nolan'], ['Yang Song', 'Chiyu Zhang'], ['Quentin Tarantino'], ['M. Night Shyamalan'], ['Rian Johnson'], ['Paul W.S. Anderson'], ['Rawson Marshall Thurber'], ['Sylvester Stallone'], ['Paul W.S. Anderson'], ['Stephen Sommers'], ['Amy Heckerling'], ['Neill Blomkamp'], ['M. Night Shyamalan'], ['Cameron Crowe'], ['Nancy Meyers'], ['J.J. Abrams'], ['Stanley Tong'], ['M. Night Shyamalan'], ['Jordan Peele'], ['Han Han'], ['Jordan Peele'], ['Simon Kinberg'], ['Richard Curtis'], ['M. Night Shyamalan'], ['Paul W.S. Anderson'], ['Paul Feig'], ['Da-Mo Peng', 'Fei Yan'], ['Edgar Wright'], ['Michael Moore'], ['Judd Apatow'], ['Nancy Meyers'], ['Parker Finn'], ['David Ayer'], ['Alejandro Amenábar'], ['Nancy Meyers'], ['Marc Lawrence'], ['Robert Rodriguez'], ['Nancy Meyers'], ['Oren Peli'], ['John Krasinski'], ['Felix Chong'], ['Michael Mann']]\n",
      "Duplicates between Director and Cast: [['Teng Shen', 'Jing Wu', 'Zheng Xu', 'Ziyi Zhang']]\n"
     ]
    }
   ],
   "source": [
    "def find_duplicates(data):\n",
    "    columns = list(data.keys())  \n",
    "    num_columns = len(columns)\n",
    "    \n",
    "    duplicate_results = {}\n",
    "    \n",
    "    for i in range(num_columns):\n",
    "        for j in range(i + 1, num_columns):\n",
    "            col1 = columns[i]\n",
    "            col2 = columns[j]\n",
    "            \n",
    "            col1_values = data[col1]\n",
    "            col2_values = data[col2]\n",
    "            \n",
    "            duplicates = []\n",
    "            \n",
    "            for value1, value2 in zip(col1_values, col2_values):\n",
    "                if isinstance(value1, list) and isinstance(value2, list):\n",
    "                    if sorted([str(v).strip().lower() for v in value1]) == sorted([str(v).strip().lower() for v in value2]):\n",
    "                        duplicates.append(value1)\n",
    "                elif str(value1).strip().lower() == str(value2).strip().lower():\n",
    "                    duplicates.append(value1)\n",
    "            \n",
    "            if duplicates:\n",
    "                duplicate_results[(col1, col2)] = duplicates\n",
    "    \n",
    "    if not duplicate_results:\n",
    "        print(\"No duplicated data found\")\n",
    "    else:\n",
    "        for col_pair, duplicates in duplicate_results.items():\n",
    "            print(f\"Duplicates between {col_pair[0]} and {col_pair[1]}: {duplicates}\")\n",
    "\n",
    "    return duplicate_results\n",
    "\n",
    "duplicate_results = find_duplicates(data)"
   ]
  },
  {
   "cell_type": "markdown",
   "metadata": {},
   "source": [
    "## Check missing data"
   ]
  },
  {
   "cell_type": "markdown",
   "metadata": {},
   "source": [
    "- `check_missing_data(data)` takes one argument is `data`: a dictionary where the key is the column name, and the value is a list of values for that column.\n",
    "- `columns`: a list containing the names of the columns.\n",
    "- `missing_data_results`: a dictionary store the names of columns with missing data.\n",
    "- `col_values`: a list of values for the current column.\n",
    "- `missing_indices`: a list to store the indices of missing values.\n",
    "- The `for` loop goes through each value in the column, using enumerate to get both the index and the value.\n",
    "- Missing data conditions:\n",
    "    + The value is None.\n",
    "    + The value is an empty string or a string with only whitespace.\n",
    "- If a missing value is found, its index is appended to missing_indices.\n",
    "- If any missing indices are found in the current column, they are added to `missing_data_results` with the column name as the key and the list of missing indices as the value.\n",
    "- If no missing data is found, the function prints `No missing data found`. On the other hand, if missing data is present, it displays the column name and the indices.\n",
    "- Returning a dictionary that contains the column names as keys and the lists of indices with missing data as values."
   ]
  },
  {
   "cell_type": "code",
   "execution_count": 8,
   "metadata": {},
   "outputs": [
    {
     "name": "stdout",
     "output_type": "stream",
     "text": [
      "No missing data found\n"
     ]
    }
   ],
   "source": [
    "def check_missing_data(data):\n",
    "    columns = list(data.keys())  \n",
    "    missing_data_results = {}\n",
    "    \n",
    "    for col in columns:\n",
    "        col_values = data[col]\n",
    "        missing_indices = []\n",
    "\n",
    "        for index, value in enumerate(col_values):\n",
    "            if value is None or (isinstance(value, str) and value.strip() == ''):\n",
    "                missing_indices.append(index)\n",
    "        \n",
    "        if missing_indices:\n",
    "            missing_data_results[col] = missing_indices\n",
    "\n",
    "    if not missing_data_results:\n",
    "        print(\"No missing data found\")\n",
    "    else:\n",
    "        for col, indices in missing_data_results.items():\n",
    "            print(f\"Missing data in column '{col}' at indices: {indices}\")\n",
    "\n",
    "    return missing_data_results\n",
    "\n",
    "missing_data_results = check_missing_data(data)\n"
   ]
  },
  {
   "cell_type": "code",
   "execution_count": null,
   "metadata": {},
   "outputs": [],
   "source": []
  }
 ],
 "metadata": {
  "kernelspec": {
   "display_name": "min_ds-env",
   "language": "python",
   "name": "python3"
  },
  "language_info": {
   "codemirror_mode": {
    "name": "ipython",
    "version": 3
   },
   "file_extension": ".py",
   "mimetype": "text/x-python",
   "name": "python",
   "nbconvert_exporter": "python",
   "pygments_lexer": "ipython3",
   "version": "3.10.8"
  }
 },
 "nbformat": 4,
 "nbformat_minor": 2
}

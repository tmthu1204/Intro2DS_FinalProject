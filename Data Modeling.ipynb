{
 "cells": [
  {
   "cell_type": "markdown",
   "metadata": {},
   "source": [
    "# `DATA MODELING`"
   ]
  },
  {
   "cell_type": "markdown",
   "metadata": {},
   "source": [
    "## **TOPIC: FILMS ANALYSIS**"
   ]
  },
  {
   "cell_type": "markdown",
   "metadata": {},
   "source": [
    "`Group ID`: 17\n",
    "\n",
    "`Group Member`:\n",
    "- 22127404_Tạ Minh Thư\n",
    "- 22127359_Chu Thúy Quỳnh\n",
    "- 22127302_Nguyễn Đăng Nhân"
   ]
  },
  {
   "cell_type": "markdown",
   "metadata": {},
   "source": [
    "## **OBJECTIVES**"
   ]
  },
  {
   "cell_type": "markdown",
   "metadata": {},
   "source": [
    "In this phase, the goal is to build models for predicting movie revenue rank. Here, we will use Random Forest and Decision Tree for analyzing.\n",
    "\n",
    "Then, we will end this phase by each member reflection, as well as team reflection."
   ]
  },
  {
   "cell_type": "markdown",
   "metadata": {},
   "source": [
    "## **IMPLEMENTATION WITH EXPLANATION**"
   ]
  },
  {
   "cell_type": "markdown",
   "metadata": {},
   "source": [
    "### **SETUP AND IMPORTS**"
   ]
  },
  {
   "cell_type": "code",
   "execution_count": 31,
   "metadata": {},
   "outputs": [],
   "source": [
    "import pandas as pd\n",
    "from collections import Counter\n",
    "from sklearn.preprocessing import MinMaxScaler\n",
    "from sklearn.model_selection import train_test_split\n",
    "from sklearn.ensemble import RandomForestClassifier\n",
    "from sklearn.metrics import classification_report, accuracy_score\n",
    "from sklearn.model_selection import GridSearchCV\n",
    "from sklearn.tree import DecisionTreeClassifier\n",
    "from scipy.stats import pearsonr, chi2_contingency"
   ]
  },
  {
   "cell_type": "markdown",
   "metadata": {},
   "source": [
    "### **READ DATA**"
   ]
  },
  {
   "cell_type": "markdown",
   "metadata": {},
   "source": [
    "The `cleaned_data.csv` file is read for data modeling."
   ]
  },
  {
   "cell_type": "code",
   "execution_count": 26,
   "metadata": {},
   "outputs": [
    {
     "data": {
      "text/html": [
       "<div>\n",
       "<style scoped>\n",
       "    .dataframe tbody tr th:only-of-type {\n",
       "        vertical-align: middle;\n",
       "    }\n",
       "\n",
       "    .dataframe tbody tr th {\n",
       "        vertical-align: top;\n",
       "    }\n",
       "\n",
       "    .dataframe thead th {\n",
       "        text-align: right;\n",
       "    }\n",
       "</style>\n",
       "<table border=\"1\" class=\"dataframe\">\n",
       "  <thead>\n",
       "    <tr style=\"text-align: right;\">\n",
       "      <th></th>\n",
       "      <th>Rank</th>\n",
       "      <th>Title</th>\n",
       "      <th>Foreign %</th>\n",
       "      <th>Domestic %</th>\n",
       "      <th>Year</th>\n",
       "      <th>Genre</th>\n",
       "      <th>Director</th>\n",
       "      <th>Writer</th>\n",
       "      <th>Cast</th>\n",
       "    </tr>\n",
       "  </thead>\n",
       "  <tbody>\n",
       "    <tr>\n",
       "      <th>0</th>\n",
       "      <td>1</td>\n",
       "      <td>Avatar</td>\n",
       "      <td>73.1</td>\n",
       "      <td>26.9</td>\n",
       "      <td>2009</td>\n",
       "      <td>['Action', 'Adventure', 'Fantasy', 'Sci-Fi']</td>\n",
       "      <td>['James Cameron']</td>\n",
       "      <td>['James Cameron']</td>\n",
       "      <td>['Sam Worthington', 'Zoe Saldana', 'Sigourney ...</td>\n",
       "    </tr>\n",
       "    <tr>\n",
       "      <th>1</th>\n",
       "      <td>2</td>\n",
       "      <td>Avengers: Endgame</td>\n",
       "      <td>69.3</td>\n",
       "      <td>30.7</td>\n",
       "      <td>2019</td>\n",
       "      <td>['Action', 'Adventure', 'Drama', 'Sci-Fi']</td>\n",
       "      <td>['Anthony Russo', 'Joe Russo']</td>\n",
       "      <td>['Christopher Markus', 'Stephen McFeely', 'Sta...</td>\n",
       "      <td>['Robert Downey Jr.', 'Chris Evans', 'Mark Ruf...</td>\n",
       "    </tr>\n",
       "    <tr>\n",
       "      <th>2</th>\n",
       "      <td>3</td>\n",
       "      <td>Avatar: The Way of Water</td>\n",
       "      <td>70.5</td>\n",
       "      <td>29.5</td>\n",
       "      <td>2022</td>\n",
       "      <td>['Action', 'Adventure', 'Fantasy', 'Sci-Fi']</td>\n",
       "      <td>['James Cameron']</td>\n",
       "      <td>['James Cameron', 'Rick Jaffa', 'Amanda Silver...</td>\n",
       "      <td>['Sam Worthington', 'Zoe Saldana', 'Sigourney ...</td>\n",
       "    </tr>\n",
       "    <tr>\n",
       "      <th>3</th>\n",
       "      <td>4</td>\n",
       "      <td>Titanic</td>\n",
       "      <td>70.2</td>\n",
       "      <td>29.8</td>\n",
       "      <td>1997</td>\n",
       "      <td>['Drama', 'Romance']</td>\n",
       "      <td>['James Cameron']</td>\n",
       "      <td>['James Cameron']</td>\n",
       "      <td>['Leonardo DiCaprio', 'Kate Winslet', 'Billy Z...</td>\n",
       "    </tr>\n",
       "    <tr>\n",
       "      <th>4</th>\n",
       "      <td>5</td>\n",
       "      <td>Star Wars: Episode VII - The Force Awakens</td>\n",
       "      <td>54.8</td>\n",
       "      <td>45.2</td>\n",
       "      <td>2015</td>\n",
       "      <td>['Action', 'Adventure', 'Sci-Fi']</td>\n",
       "      <td>['J.J. Abrams']</td>\n",
       "      <td>['Lawrence Kasdan', 'J.J. Abrams', 'Michael Ar...</td>\n",
       "      <td>['Daisy Ridley', 'John Boyega', 'Oscar Isaac',...</td>\n",
       "    </tr>\n",
       "    <tr>\n",
       "      <th>...</th>\n",
       "      <td>...</td>\n",
       "      <td>...</td>\n",
       "      <td>...</td>\n",
       "      <td>...</td>\n",
       "      <td>...</td>\n",
       "      <td>...</td>\n",
       "      <td>...</td>\n",
       "      <td>...</td>\n",
       "      <td>...</td>\n",
       "    </tr>\n",
       "    <tr>\n",
       "      <th>995</th>\n",
       "      <td>996</td>\n",
       "      <td>The Final Destination</td>\n",
       "      <td>64.3</td>\n",
       "      <td>35.7</td>\n",
       "      <td>2009</td>\n",
       "      <td>['Horror', 'Thriller']</td>\n",
       "      <td>['David R. Ellis']</td>\n",
       "      <td>['Eric Bress', 'Jeffrey Reddick']</td>\n",
       "      <td>['Nick Zano', 'Krista Allen', 'Andrew Fiscella...</td>\n",
       "    </tr>\n",
       "    <tr>\n",
       "      <th>996</th>\n",
       "      <td>997</td>\n",
       "      <td>Atlantis: The Lost Empire</td>\n",
       "      <td>54.8</td>\n",
       "      <td>45.2</td>\n",
       "      <td>2001</td>\n",
       "      <td>['Action', 'Adventure', 'Animation', 'Family',...</td>\n",
       "      <td>['Gary Trousdale', 'Kirk Wise']</td>\n",
       "      <td>['Tab Murphy', 'Kirk Wise', 'Gary Trousdale', ...</td>\n",
       "      <td>['Michael J. Fox', 'Jim Varney', 'Corey Burton...</td>\n",
       "    </tr>\n",
       "    <tr>\n",
       "      <th>997</th>\n",
       "      <td>998</td>\n",
       "      <td>Inside Man</td>\n",
       "      <td>52.4</td>\n",
       "      <td>47.6</td>\n",
       "      <td>2006</td>\n",
       "      <td>['Crime', 'Drama', 'Mystery', 'Thriller']</td>\n",
       "      <td>['Spike Lee']</td>\n",
       "      <td>['Russell Gewirtz']</td>\n",
       "      <td>['Denzel Washington', 'Clive Owen', 'Jodie Fos...</td>\n",
       "    </tr>\n",
       "    <tr>\n",
       "      <th>998</th>\n",
       "      <td>999</td>\n",
       "      <td>The Waterboy</td>\n",
       "      <td>13.2</td>\n",
       "      <td>86.8</td>\n",
       "      <td>1998</td>\n",
       "      <td>['Comedy', 'Sport']</td>\n",
       "      <td>['Frank Coraci']</td>\n",
       "      <td>['Tim Herlihy', 'Adam Sandler']</td>\n",
       "      <td>['Adam Sandler', 'Kathy Bates', 'Henry Winkler...</td>\n",
       "    </tr>\n",
       "    <tr>\n",
       "      <th>999</th>\n",
       "      <td>1000</td>\n",
       "      <td>Coraline</td>\n",
       "      <td>37.1</td>\n",
       "      <td>62.9</td>\n",
       "      <td>2009</td>\n",
       "      <td>['Animation', 'Drama', 'Family', 'Fantasy']</td>\n",
       "      <td>['Henry Selick']</td>\n",
       "      <td>['Henry Selick', 'Neil Gaiman']</td>\n",
       "      <td>['Dakota Fanning', 'Teri Hatcher', 'John Hodgm...</td>\n",
       "    </tr>\n",
       "  </tbody>\n",
       "</table>\n",
       "<p>1000 rows × 9 columns</p>\n",
       "</div>"
      ],
      "text/plain": [
       "     Rank                                       Title  Foreign %  Domestic %  \\\n",
       "0       1                                      Avatar       73.1        26.9   \n",
       "1       2                           Avengers: Endgame       69.3        30.7   \n",
       "2       3                    Avatar: The Way of Water       70.5        29.5   \n",
       "3       4                                     Titanic       70.2        29.8   \n",
       "4       5  Star Wars: Episode VII - The Force Awakens       54.8        45.2   \n",
       "..    ...                                         ...        ...         ...   \n",
       "995   996                       The Final Destination       64.3        35.7   \n",
       "996   997                   Atlantis: The Lost Empire       54.8        45.2   \n",
       "997   998                                  Inside Man       52.4        47.6   \n",
       "998   999                                The Waterboy       13.2        86.8   \n",
       "999  1000                                    Coraline       37.1        62.9   \n",
       "\n",
       "     Year                                              Genre  \\\n",
       "0    2009       ['Action', 'Adventure', 'Fantasy', 'Sci-Fi']   \n",
       "1    2019         ['Action', 'Adventure', 'Drama', 'Sci-Fi']   \n",
       "2    2022       ['Action', 'Adventure', 'Fantasy', 'Sci-Fi']   \n",
       "3    1997                               ['Drama', 'Romance']   \n",
       "4    2015                  ['Action', 'Adventure', 'Sci-Fi']   \n",
       "..    ...                                                ...   \n",
       "995  2009                             ['Horror', 'Thriller']   \n",
       "996  2001  ['Action', 'Adventure', 'Animation', 'Family',...   \n",
       "997  2006          ['Crime', 'Drama', 'Mystery', 'Thriller']   \n",
       "998  1998                                ['Comedy', 'Sport']   \n",
       "999  2009        ['Animation', 'Drama', 'Family', 'Fantasy']   \n",
       "\n",
       "                            Director  \\\n",
       "0                  ['James Cameron']   \n",
       "1     ['Anthony Russo', 'Joe Russo']   \n",
       "2                  ['James Cameron']   \n",
       "3                  ['James Cameron']   \n",
       "4                    ['J.J. Abrams']   \n",
       "..                               ...   \n",
       "995               ['David R. Ellis']   \n",
       "996  ['Gary Trousdale', 'Kirk Wise']   \n",
       "997                    ['Spike Lee']   \n",
       "998                 ['Frank Coraci']   \n",
       "999                 ['Henry Selick']   \n",
       "\n",
       "                                                Writer  \\\n",
       "0                                    ['James Cameron']   \n",
       "1    ['Christopher Markus', 'Stephen McFeely', 'Sta...   \n",
       "2    ['James Cameron', 'Rick Jaffa', 'Amanda Silver...   \n",
       "3                                    ['James Cameron']   \n",
       "4    ['Lawrence Kasdan', 'J.J. Abrams', 'Michael Ar...   \n",
       "..                                                 ...   \n",
       "995                  ['Eric Bress', 'Jeffrey Reddick']   \n",
       "996  ['Tab Murphy', 'Kirk Wise', 'Gary Trousdale', ...   \n",
       "997                                ['Russell Gewirtz']   \n",
       "998                    ['Tim Herlihy', 'Adam Sandler']   \n",
       "999                    ['Henry Selick', 'Neil Gaiman']   \n",
       "\n",
       "                                                  Cast  \n",
       "0    ['Sam Worthington', 'Zoe Saldana', 'Sigourney ...  \n",
       "1    ['Robert Downey Jr.', 'Chris Evans', 'Mark Ruf...  \n",
       "2    ['Sam Worthington', 'Zoe Saldana', 'Sigourney ...  \n",
       "3    ['Leonardo DiCaprio', 'Kate Winslet', 'Billy Z...  \n",
       "4    ['Daisy Ridley', 'John Boyega', 'Oscar Isaac',...  \n",
       "..                                                 ...  \n",
       "995  ['Nick Zano', 'Krista Allen', 'Andrew Fiscella...  \n",
       "996  ['Michael J. Fox', 'Jim Varney', 'Corey Burton...  \n",
       "997  ['Denzel Washington', 'Clive Owen', 'Jodie Fos...  \n",
       "998  ['Adam Sandler', 'Kathy Bates', 'Henry Winkler...  \n",
       "999  ['Dakota Fanning', 'Teri Hatcher', 'John Hodgm...  \n",
       "\n",
       "[1000 rows x 9 columns]"
      ]
     },
     "execution_count": 26,
     "metadata": {},
     "output_type": "execute_result"
    }
   ],
   "source": [
    "data = pd.read_csv('cleaned_data.csv', sep=\",\")\n",
    "data"
   ]
  },
  {
   "cell_type": "markdown",
   "metadata": {},
   "source": [
    "### **FEATURE ENGINEERING**"
   ]
  },
  {
   "cell_type": "markdown",
   "metadata": {},
   "source": [
    "In this step, we will extract valuable features for data modeling."
   ]
  },
  {
   "cell_type": "markdown",
   "metadata": {},
   "source": [
    "#### **Genre**"
   ]
  },
  {
   "cell_type": "markdown",
   "metadata": {},
   "source": [
    "- The genres are divided into four groups (Very High, High, Medium, Low) based on their frequency of appearance in the dataset.\n",
    "- Assigning scores to each group: Very High (3 points), High (2 points), Medium (1 point), Low (0 point).\n",
    "- For each list of genres in a movie, determine the group to which each genre belongs and add the corresponding points."
   ]
  },
  {
   "cell_type": "code",
   "execution_count": 27,
   "metadata": {},
   "outputs": [
    {
     "data": {
      "text/html": [
       "<div>\n",
       "<style scoped>\n",
       "    .dataframe tbody tr th:only-of-type {\n",
       "        vertical-align: middle;\n",
       "    }\n",
       "\n",
       "    .dataframe tbody tr th {\n",
       "        vertical-align: top;\n",
       "    }\n",
       "\n",
       "    .dataframe thead th {\n",
       "        text-align: right;\n",
       "    }\n",
       "</style>\n",
       "<table border=\"1\" class=\"dataframe\">\n",
       "  <thead>\n",
       "    <tr style=\"text-align: right;\">\n",
       "      <th></th>\n",
       "      <th>genres_score</th>\n",
       "    </tr>\n",
       "  </thead>\n",
       "  <tbody>\n",
       "    <tr>\n",
       "      <th>0</th>\n",
       "      <td>10</td>\n",
       "    </tr>\n",
       "    <tr>\n",
       "      <th>1</th>\n",
       "      <td>10</td>\n",
       "    </tr>\n",
       "    <tr>\n",
       "      <th>2</th>\n",
       "      <td>10</td>\n",
       "    </tr>\n",
       "    <tr>\n",
       "      <th>3</th>\n",
       "      <td>3</td>\n",
       "    </tr>\n",
       "    <tr>\n",
       "      <th>4</th>\n",
       "      <td>8</td>\n",
       "    </tr>\n",
       "    <tr>\n",
       "      <th>...</th>\n",
       "      <td>...</td>\n",
       "    </tr>\n",
       "    <tr>\n",
       "      <th>995</th>\n",
       "      <td>2</td>\n",
       "    </tr>\n",
       "    <tr>\n",
       "      <th>996</th>\n",
       "      <td>13</td>\n",
       "    </tr>\n",
       "    <tr>\n",
       "      <th>997</th>\n",
       "      <td>6</td>\n",
       "    </tr>\n",
       "    <tr>\n",
       "      <th>998</th>\n",
       "      <td>3</td>\n",
       "    </tr>\n",
       "    <tr>\n",
       "      <th>999</th>\n",
       "      <td>7</td>\n",
       "    </tr>\n",
       "  </tbody>\n",
       "</table>\n",
       "<p>1000 rows × 1 columns</p>\n",
       "</div>"
      ],
      "text/plain": [
       "     genres_score\n",
       "0              10\n",
       "1              10\n",
       "2              10\n",
       "3               3\n",
       "4               8\n",
       "..            ...\n",
       "995             2\n",
       "996            13\n",
       "997             6\n",
       "998             3\n",
       "999             7\n",
       "\n",
       "[1000 rows x 1 columns]"
      ]
     },
     "execution_count": 27,
     "metadata": {},
     "output_type": "execute_result"
    }
   ],
   "source": [
    "data['Genre'] = data['Genre'].apply(eval)\n",
    "genre_groups = {\n",
    "    \"Very High\": [\"Adventure\", \"Action\", \"Comedy\"], \n",
    "    \"High\": [\"Drama\", \"Fantasy\", \"Thriller\", \"Sci-Fi\", \"Family\", ],      \n",
    "    \"Medium\": [\"Animation\", \"Romance\", \"Crime\", \"Mystery\"],\n",
    "    \"Low\": [ \"Musical\", \"Horror\", \"Biography\", \"War\", \"Music\", \"History\", \"Sport\", \"Western\", \"Documentary\"]\n",
    "}\n",
    "\n",
    "group_scores = {\n",
    "    \"Very High\": 3,\n",
    "    \"High\": 2,\n",
    "    \"Medium\": 1,\n",
    "    \"Low\": 0\n",
    "}\n",
    "\n",
    "def calculate_group_score(genres):\n",
    "    score = 0\n",
    "    for genre in genres:\n",
    "        for group, genre_list in genre_groups.items():\n",
    "            if genre in genre_list:\n",
    "                score += group_scores[group]\n",
    "                break \n",
    "    return score\n",
    "\n",
    "engineered_data = data.copy()\n",
    "engineered_data[\"genres_score\"] = data[\"Genre\"].apply(calculate_group_score)\n",
    "engineered_data = engineered_data[['genres_score']]\n",
    "engineered_data\n"
   ]
  },
  {
   "cell_type": "markdown",
   "metadata": {},
   "source": [
    "#### **Main cast popularity**"
   ]
  },
  {
   "cell_type": "markdown",
   "metadata": {},
   "source": [
    "- A count is calculated for how often each actor appears in the dataset. This provides a measure of each actor's prevalence or \"popularity\" within the dataset.\n",
    "- For each movie, the appearances of all actors in its cast are summed. This aggregated score represents the overall popularity of the movie's main cast."
   ]
  },
  {
   "cell_type": "code",
   "execution_count": 28,
   "metadata": {},
   "outputs": [
    {
     "data": {
      "text/html": [
       "<div>\n",
       "<style scoped>\n",
       "    .dataframe tbody tr th:only-of-type {\n",
       "        vertical-align: middle;\n",
       "    }\n",
       "\n",
       "    .dataframe tbody tr th {\n",
       "        vertical-align: top;\n",
       "    }\n",
       "\n",
       "    .dataframe thead th {\n",
       "        text-align: right;\n",
       "    }\n",
       "</style>\n",
       "<table border=\"1\" class=\"dataframe\">\n",
       "  <thead>\n",
       "    <tr style=\"text-align: right;\">\n",
       "      <th></th>\n",
       "      <th>genres_score</th>\n",
       "      <th>main_cast_popularity</th>\n",
       "    </tr>\n",
       "  </thead>\n",
       "  <tbody>\n",
       "    <tr>\n",
       "      <th>0</th>\n",
       "      <td>10</td>\n",
       "      <td>28</td>\n",
       "    </tr>\n",
       "    <tr>\n",
       "      <th>1</th>\n",
       "      <td>10</td>\n",
       "      <td>43</td>\n",
       "    </tr>\n",
       "    <tr>\n",
       "      <th>2</th>\n",
       "      <td>10</td>\n",
       "      <td>18</td>\n",
       "    </tr>\n",
       "    <tr>\n",
       "      <th>3</th>\n",
       "      <td>3</td>\n",
       "      <td>20</td>\n",
       "    </tr>\n",
       "    <tr>\n",
       "      <th>4</th>\n",
       "      <td>8</td>\n",
       "      <td>14</td>\n",
       "    </tr>\n",
       "    <tr>\n",
       "      <th>...</th>\n",
       "      <td>...</td>\n",
       "      <td>...</td>\n",
       "    </tr>\n",
       "    <tr>\n",
       "      <th>995</th>\n",
       "      <td>2</td>\n",
       "      <td>4</td>\n",
       "    </tr>\n",
       "    <tr>\n",
       "      <th>996</th>\n",
       "      <td>13</td>\n",
       "      <td>10</td>\n",
       "    </tr>\n",
       "    <tr>\n",
       "      <th>997</th>\n",
       "      <td>6</td>\n",
       "      <td>21</td>\n",
       "    </tr>\n",
       "    <tr>\n",
       "      <th>998</th>\n",
       "      <td>3</td>\n",
       "      <td>21</td>\n",
       "    </tr>\n",
       "    <tr>\n",
       "      <th>999</th>\n",
       "      <td>7</td>\n",
       "      <td>7</td>\n",
       "    </tr>\n",
       "  </tbody>\n",
       "</table>\n",
       "<p>1000 rows × 2 columns</p>\n",
       "</div>"
      ],
      "text/plain": [
       "     genres_score  main_cast_popularity\n",
       "0              10                    28\n",
       "1              10                    43\n",
       "2              10                    18\n",
       "3               3                    20\n",
       "4               8                    14\n",
       "..            ...                   ...\n",
       "995             2                     4\n",
       "996            13                    10\n",
       "997             6                    21\n",
       "998             3                    21\n",
       "999             7                     7\n",
       "\n",
       "[1000 rows x 2 columns]"
      ]
     },
     "execution_count": 28,
     "metadata": {},
     "output_type": "execute_result"
    }
   ],
   "source": [
    "cast_counter = Counter(actor for cast_list in data['Cast'].apply(eval) for actor in cast_list)\n",
    "\n",
    "engineered_data['main_cast_popularity'] = data['Cast'].apply(lambda x: sum(cast_counter[actor] for actor in eval(x)))\n",
    "engineered_data"
   ]
  },
  {
   "cell_type": "markdown",
   "metadata": {},
   "source": [
    "#### **Director**"
   ]
  },
  {
   "cell_type": "markdown",
   "metadata": {},
   "source": [
    "- A count is created to track how many movies each director is credited for within the dataset. This provides a measure of their activity or prominence.\n",
    "- For each movie, the contributions of all directors involved are summed up. This score reflects the cumulative movie count of all directors associated with the film."
   ]
  },
  {
   "cell_type": "code",
   "execution_count": 29,
   "metadata": {},
   "outputs": [
    {
     "data": {
      "text/html": [
       "<div>\n",
       "<style scoped>\n",
       "    .dataframe tbody tr th:only-of-type {\n",
       "        vertical-align: middle;\n",
       "    }\n",
       "\n",
       "    .dataframe tbody tr th {\n",
       "        vertical-align: top;\n",
       "    }\n",
       "\n",
       "    .dataframe thead th {\n",
       "        text-align: right;\n",
       "    }\n",
       "</style>\n",
       "<table border=\"1\" class=\"dataframe\">\n",
       "  <thead>\n",
       "    <tr style=\"text-align: right;\">\n",
       "      <th></th>\n",
       "      <th>genres_score</th>\n",
       "      <th>main_cast_popularity</th>\n",
       "      <th>director_movie_count</th>\n",
       "    </tr>\n",
       "  </thead>\n",
       "  <tbody>\n",
       "    <tr>\n",
       "      <th>0</th>\n",
       "      <td>10</td>\n",
       "      <td>28</td>\n",
       "      <td>5</td>\n",
       "    </tr>\n",
       "    <tr>\n",
       "      <th>1</th>\n",
       "      <td>10</td>\n",
       "      <td>43</td>\n",
       "      <td>8</td>\n",
       "    </tr>\n",
       "    <tr>\n",
       "      <th>2</th>\n",
       "      <td>10</td>\n",
       "      <td>18</td>\n",
       "      <td>5</td>\n",
       "    </tr>\n",
       "    <tr>\n",
       "      <th>3</th>\n",
       "      <td>3</td>\n",
       "      <td>20</td>\n",
       "      <td>5</td>\n",
       "    </tr>\n",
       "    <tr>\n",
       "      <th>4</th>\n",
       "      <td>8</td>\n",
       "      <td>14</td>\n",
       "      <td>6</td>\n",
       "    </tr>\n",
       "    <tr>\n",
       "      <th>...</th>\n",
       "      <td>...</td>\n",
       "      <td>...</td>\n",
       "      <td>...</td>\n",
       "    </tr>\n",
       "    <tr>\n",
       "      <th>995</th>\n",
       "      <td>2</td>\n",
       "      <td>4</td>\n",
       "      <td>1</td>\n",
       "    </tr>\n",
       "    <tr>\n",
       "      <th>996</th>\n",
       "      <td>13</td>\n",
       "      <td>10</td>\n",
       "      <td>6</td>\n",
       "    </tr>\n",
       "    <tr>\n",
       "      <th>997</th>\n",
       "      <td>6</td>\n",
       "      <td>21</td>\n",
       "      <td>1</td>\n",
       "    </tr>\n",
       "    <tr>\n",
       "      <th>998</th>\n",
       "      <td>3</td>\n",
       "      <td>21</td>\n",
       "      <td>2</td>\n",
       "    </tr>\n",
       "    <tr>\n",
       "      <th>999</th>\n",
       "      <td>7</td>\n",
       "      <td>7</td>\n",
       "      <td>1</td>\n",
       "    </tr>\n",
       "  </tbody>\n",
       "</table>\n",
       "<p>1000 rows × 3 columns</p>\n",
       "</div>"
      ],
      "text/plain": [
       "     genres_score  main_cast_popularity  director_movie_count\n",
       "0              10                    28                     5\n",
       "1              10                    43                     8\n",
       "2              10                    18                     5\n",
       "3               3                    20                     5\n",
       "4               8                    14                     6\n",
       "..            ...                   ...                   ...\n",
       "995             2                     4                     1\n",
       "996            13                    10                     6\n",
       "997             6                    21                     1\n",
       "998             3                    21                     2\n",
       "999             7                     7                     1\n",
       "\n",
       "[1000 rows x 3 columns]"
      ]
     },
     "execution_count": 29,
     "metadata": {},
     "output_type": "execute_result"
    }
   ],
   "source": [
    "data['Director'] = data['Director'].apply(eval)\n",
    "\n",
    "director_counter = Counter(director for director_list in data['Director'] for director in director_list)\n",
    "\n",
    "engineered_data['director_movie_count'] = data['Director'].apply(\n",
    "    lambda directors: sum(director_counter[director] for director in directors)\n",
    ")\n",
    "\n",
    "engineered_data\n"
   ]
  },
  {
   "cell_type": "markdown",
   "metadata": {},
   "source": [
    "#### **Writer**"
   ]
  },
  {
   "cell_type": "markdown",
   "metadata": {},
   "source": [
    "- A tally is generated to track how many movies each writer has been credited for in the dataset. This provides insight into the frequency and prominence of each writer.\n",
    "- For each movie, the total number of contributions from all credited writers is calculated by summing up their respective counts. This score represents the collective influence of the writers involved in the movie."
   ]
  },
  {
   "cell_type": "code",
   "execution_count": 30,
   "metadata": {},
   "outputs": [
    {
     "ename": "SyntaxError",
     "evalue": "invalid syntax. Perhaps you forgot a comma? (<string>, line 1)",
     "output_type": "error",
     "traceback": [
      "Traceback \u001b[1;36m(most recent call last)\u001b[0m:\n",
      "\u001b[0m  File \u001b[0;32mc:\\Users\\LENOVO\\anaconda3\\envs\\min_ds-env0\\Lib\\site-packages\\IPython\\core\\interactiveshell.py:3577\u001b[0m in \u001b[0;35mrun_code\u001b[0m\n    exec(code_obj, self.user_global_ns, self.user_ns)\u001b[0m\n",
      "\u001b[0m  Cell \u001b[0;32mIn[30], line 1\u001b[0m\n    data['Writer'] = data['Writer'].apply(eval)\u001b[0m\n",
      "\u001b[0m  File \u001b[0;32mc:\\Users\\LENOVO\\anaconda3\\envs\\min_ds-env0\\Lib\\site-packages\\pandas\\core\\series.py:4924\u001b[0m in \u001b[0;35mapply\u001b[0m\n    ).apply()\u001b[0m\n",
      "\u001b[0m  File \u001b[0;32mc:\\Users\\LENOVO\\anaconda3\\envs\\min_ds-env0\\Lib\\site-packages\\pandas\\core\\apply.py:1427\u001b[0m in \u001b[0;35mapply\u001b[0m\n    return self.apply_standard()\u001b[0m\n",
      "\u001b[0m  File \u001b[0;32mc:\\Users\\LENOVO\\anaconda3\\envs\\min_ds-env0\\Lib\\site-packages\\pandas\\core\\apply.py:1507\u001b[0m in \u001b[0;35mapply_standard\u001b[0m\n    mapped = obj._map_values(\u001b[0m\n",
      "\u001b[0m  File \u001b[0;32mc:\\Users\\LENOVO\\anaconda3\\envs\\min_ds-env0\\Lib\\site-packages\\pandas\\core\\base.py:921\u001b[0m in \u001b[0;35m_map_values\u001b[0m\n    return algorithms.map_array(arr, mapper, na_action=na_action, convert=convert)\u001b[0m\n",
      "\u001b[0m  File \u001b[0;32mc:\\Users\\LENOVO\\anaconda3\\envs\\min_ds-env0\\Lib\\site-packages\\pandas\\core\\algorithms.py:1743\u001b[0m in \u001b[0;35mmap_array\u001b[0m\n    return lib.map_infer(values, mapper, convert=convert)\u001b[0m\n",
      "\u001b[1;36m  File \u001b[1;32mlib.pyx:2972\u001b[1;36m in \u001b[1;35mpandas._libs.lib.map_infer\u001b[1;36m\n",
      "\u001b[1;36m  File \u001b[1;32m<string>:1\u001b[1;36m\u001b[0m\n\u001b[1;33m    [Kenny Ortega]\u001b[0m\n\u001b[1;37m     ^\u001b[0m\n\u001b[1;31mSyntaxError\u001b[0m\u001b[1;31m:\u001b[0m invalid syntax. Perhaps you forgot a comma?\n"
     ]
    }
   ],
   "source": [
    "data['Writer'] = data['Writer'].apply(eval)\n",
    " \n",
    "writer_counter = Counter(writer for writer_list in data['Writer'] for writer in writer_list)\n",
    "\n",
    "engineered_data['writer_movie_count'] = data['Writer'].apply(\n",
    "    lambda writers:sum(writer_counter[writer] for writer in writers)\n",
    ")\n",
    "\n",
    "engineered_data"
   ]
  },
  {
   "cell_type": "markdown",
   "metadata": {},
   "source": [
    "#### **Having top 25% writer in each genre**"
   ]
  },
  {
   "cell_type": "markdown",
   "metadata": {},
   "source": [
    "- The dataset is expanded to associate each writer with every genre they have worked on, creating a detailed mapping of writer contributions across genres.\n",
    "- For each genre, the number of contributions (movies written) is calculated for every writer.\n",
    "- Writers whose contribution counts fall in the top 25% (above the third quartile) for a specific genre are identified as \"top writers\" for that genre.\n",
    "- For each movie, the associated genres and writers are analyzed. If any of the writers for the movie belong to the top 25% writers in at least one of its genres, the movie is flagged."
   ]
  },
  {
   "cell_type": "code",
   "execution_count": null,
   "metadata": {},
   "outputs": [],
   "source": [
    "flat_writer_data = data.explode('Genre').explode('Writer')\n",
    "\n",
    "writer_counts = flat_writer_data.groupby(['Genre', 'Writer']).size().reset_index(name='Count')\n",
    "\n",
    "def get_top_25_percent_writers_for_genre(genre):\n",
    "    genre_data = writer_counts[writer_counts['Genre'] == genre]\n",
    "    \n",
    "    Q3 = genre_data['Count'].quantile(0.75)\n",
    "    \n",
    "    top_25_writers = genre_data[genre_data['Count'] > Q3]['Writer'].tolist()\n",
    "    return top_25_writers\n",
    "def calculate_top_25_percent_writer_for_row(row):\n",
    "    top_25_percent_writer = 0\n",
    "    \n",
    "    for genre in row['Genre']:\n",
    "        top_25_writers = get_top_25_percent_writers_for_genre(genre)\n",
    "        \n",
    "        if any(writer in top_25_writers for writer in row['Writer']):\n",
    "            top_25_percent_writer = 1\n",
    "            break\n",
    "    \n",
    "    return top_25_percent_writer\n",
    "\n",
    "engineered_data['has_top_25%_writer/genre'] = data.apply(calculate_top_25_percent_writer_for_row, axis=1)\n",
    "engineered_data"
   ]
  },
  {
   "cell_type": "markdown",
   "metadata": {},
   "source": [
    "#### **Having top 25% directors in each genre**"
   ]
  },
  {
   "cell_type": "markdown",
   "metadata": {},
   "source": [
    "- The dataset is expanded to associate each director with every genre they have directed movies for, providing a detailed mapping of director contributions across genres.\n",
    "-For each genre, the number of movies directed by each director is calculated.\n",
    "- Directors whose contribution counts are in the top 25% for a specific genre (above the third quartile) are classified as \"top directors\" for that genre.\n",
    "- For each movie, the associated genres and directors are examined. If any of the directors of the movie belong to the top 25% of directors for at least one of its genres, the movie is flagged accordingly."
   ]
  },
  {
   "cell_type": "code",
   "execution_count": null,
   "metadata": {},
   "outputs": [],
   "source": [
    "flat_director_data = data.explode('Genre').explode('Director')\n",
    "\n",
    "director_counts = flat_director_data.groupby(['Genre', 'Director']).size().reset_index(name='Count')\n",
    "\n",
    "def get_top_25_percent_directors_for_genre(genre):\n",
    "    genre_data = director_counts[director_counts['Genre'] == genre]\n",
    "    \n",
    "    Q3 = genre_data['Count'].quantile(0.75)\n",
    "    \n",
    "    top_25_directors = genre_data[genre_data['Count'] > Q3]['Director'].tolist()\n",
    "    return top_25_directors\n",
    "\n",
    "def calculate_top_25_percent_director_for_row(row):\n",
    "    top_25_percent_director = 0\n",
    "    \n",
    "    for genre in row['Genre']:\n",
    "        top_25_directors = get_top_25_percent_directors_for_genre(genre)\n",
    "        \n",
    "        if any(director in top_25_directors for director in row['Director']):\n",
    "            top_25_percent_director = 1\n",
    "            break\n",
    "    \n",
    "    return top_25_percent_director\n",
    "\n",
    "engineered_data['has_top_25%_director/genre'] = data.apply(calculate_top_25_percent_director_for_row, axis=1)\n",
    "\n",
    "engineered_data"
   ]
  },
  {
   "cell_type": "markdown",
   "metadata": {},
   "source": [
    "#### **Director and cast collaborations**"
   ]
  },
  {
   "cell_type": "markdown",
   "metadata": {},
   "source": [
    "- For each movie, the number of collaborations between each director and each actor is tracked. A collaboration is counted each time a director and actor work together on a movie.\n",
    "- For each movie, the collaboration score is calculated by summing the collaboration counts for each director-actor pair involved in the movie.\n",
    "- This score reflects the number of times the director has worked with each actor across all movies in the dataset."
   ]
  },
  {
   "cell_type": "code",
   "execution_count": null,
   "metadata": {},
   "outputs": [],
   "source": [
    "director_cast_collaborations = Counter()\n",
    "\n",
    "for _, row in data.iterrows():\n",
    "    directors = row['Director']  \n",
    "    cast = row['Cast'] \n",
    "\n",
    "    for director in directors:\n",
    "        for actor in cast:\n",
    "            director_cast_collaborations[(director, actor)] += 1\n",
    "\n",
    "engineered_data['director_cast_collaborations'] = data.apply(\n",
    "    lambda row: sum(director_cast_collaborations[(director, actor)] \n",
    "                    for director in row['Director']\n",
    "                    for actor in row['Cast']), axis=1\n",
    ")\n",
    "engineered_data"
   ]
  },
  {
   "cell_type": "markdown",
   "metadata": {},
   "source": [
    "#### **Ratio revenue**"
   ]
  },
  {
   "cell_type": "markdown",
   "metadata": {},
   "source": [
    "- For each movie, the ratio of foreign revenue percentage to domestic revenue percentage is computed. The ratio is calculated by dividing the \"Foreign %\" by the \"Domestic %\".\n",
    "- If the domestic revenue percentage is zero, the ratio is set to zero to avoid division by zero errors."
   ]
  },
  {
   "cell_type": "code",
   "execution_count": null,
   "metadata": {},
   "outputs": [],
   "source": [
    "engineered_data['foreign_to_domestic_ratio'] = data.apply(\n",
    "    lambda row: row['Foreign %'] / row['Domestic %'] if row['Domestic %'] != 0 else 0,\n",
    "    axis=1\n",
    ")\n",
    "engineered_data"
   ]
  },
  {
   "cell_type": "markdown",
   "metadata": {},
   "source": [
    "### **DATA PREPARATION**"
   ]
  },
  {
   "cell_type": "markdown",
   "metadata": {},
   "source": [
    "#### **Categorize rank**"
   ]
  },
  {
   "cell_type": "markdown",
   "metadata": {},
   "source": [
    "Movies are classified into three categories based on their rank:\n",
    "- High: Rank less than or equal to 300.\n",
    "- Medium: Rank between 301 and 700 (inclusive).\n",
    "- Low: Rank above 700."
   ]
  },
  {
   "cell_type": "code",
   "execution_count": null,
   "metadata": {},
   "outputs": [],
   "source": [
    "def categorize_rank(rank):\n",
    "    if rank <= 300:\n",
    "        return 2  # High\n",
    "    elif 301 <= rank <= 700:\n",
    "        return 1  # Medium\n",
    "    else:\n",
    "        return 0  # Low\n",
    "    \n",
    "engineered_data[\"Rank Category\"] = data[\"Rank\"].apply(categorize_rank)\n",
    "engineered_data"
   ]
  },
  {
   "cell_type": "markdown",
   "metadata": {},
   "source": [
    "#### **Hypthesis**"
   ]
  },
  {
   "cell_type": "markdown",
   "metadata": {},
   "source": [
    "We use two hypothesis testing methods to calculate the p-value for each attribute in relation to the \"Rank Category\":\n",
    "1. Pearson Correlation Test:\n",
    "    - Used for continuous variables to assess the linear relationship between the attribute and \"Rank Category\".\n",
    "    - The p-value indicates the strength and significance of the correlation.\n",
    "2. Chi-Square Test:\n",
    "    - Applied to categorical variables to evaluate the association with \"Rank Category\".\n",
    "    - The p-value indicates whether the observed differences are statistically significant."
   ]
  },
  {
   "cell_type": "code",
   "execution_count": null,
   "metadata": {},
   "outputs": [],
   "source": [
    "attributes = [\n",
    "    \"genres_score\",\n",
    "    \"main_cast_popularity\",\n",
    "    \"director_movie_count\",\n",
    "    \"writer_movie_count\",\n",
    "    \"has_top_25%_writer/genre\",\n",
    "    \"has_top_25%_director/genre\",\n",
    "    \"director_cast_collaborations\",\n",
    "    \"foreign_to_domestic_ratio\"\n",
    "]\n",
    "\n",
    "p_values = {}\n",
    "\n",
    "for attr in attributes:\n",
    "    if engineered_data[attr].nunique() > 2:  # Continuous attribute\n",
    "        corr, p_val = pearsonr(engineered_data[attr], engineered_data[\"Rank Category\"])\n",
    "    else:  # Binary/categorical attribute\n",
    "        contingency_table = pd.crosstab(engineered_data[attr], engineered_data[\"Rank Category\"])\n",
    "        _, p_val, _, _ = chi2_contingency(contingency_table)\n",
    "    \n",
    "    p_values[attr] = p_val\n",
    "\n",
    "for attr, p_val in p_values.items():\n",
    "    print(f\"P-value for {attr}: {p_val}\")"
   ]
  },
  {
   "cell_type": "markdown",
   "metadata": {},
   "source": [
    "#### **Conclusion**\n",
    "- Most attributes have very small p-values, indicating statistically significant relationships with Rank Category.\n",
    "- foreign_to_domestic_ratio is the only exception, with a p-value above 0.05, suggesting no significant association with Rank Category."
   ]
  },
  {
   "cell_type": "markdown",
   "metadata": {},
   "source": [
    "#### **Data separation**"
   ]
  },
  {
   "cell_type": "markdown",
   "metadata": {},
   "source": [
    "We use MinMaxScaler - this normalization technique transforms features into a specific range, typically from 0 to 1. It ensures that each feature has the same scale, making it easier for machine learning algorithms to process the data more effectively. This is important because features with different scales can introduce bias into the model."
   ]
  },
  {
   "cell_type": "code",
   "execution_count": null,
   "metadata": {},
   "outputs": [],
   "source": [
    "X = engineered_data.drop(columns=['Rank Category'])\n",
    "scaler = MinMaxScaler()\n",
    "columns_to_scale = X.columns\n",
    "X[columns_to_scale] = scaler.fit_transform(X[columns_to_scale])\n",
    "X"
   ]
  },
  {
   "cell_type": "code",
   "execution_count": null,
   "metadata": {},
   "outputs": [],
   "source": [
    "y = engineered_data['Rank Category']\n",
    "y"
   ]
  },
  {
   "cell_type": "markdown",
   "metadata": {},
   "source": [
    "#### **Data splitting**"
   ]
  },
  {
   "cell_type": "markdown",
   "metadata": {},
   "source": [
    "80% train - 20% test"
   ]
  },
  {
   "cell_type": "code",
   "execution_count": 19,
   "metadata": {},
   "outputs": [],
   "source": [
    "X_train, X_test, y_train, y_test = train_test_split(X, y, test_size=0.2, random_state=38)"
   ]
  },
  {
   "cell_type": "markdown",
   "metadata": {},
   "source": [
    "### **BUILDING MODELS**"
   ]
  },
  {
   "cell_type": "markdown",
   "metadata": {},
   "source": [
    "#### **Random Forest**"
   ]
  },
  {
   "cell_type": "markdown",
   "metadata": {},
   "source": [
    "Firstly, trains a RandomForestClassifier on the training data, makes predictions on the test data, and then evaluates the model's performance by calculating the accuracy and generating a classification report, which includes metrics like precision, recall, and F1-score. It serves as a baseline model for comparison."
   ]
  },
  {
   "cell_type": "code",
   "execution_count": null,
   "metadata": {},
   "outputs": [],
   "source": [
    "rf_model = RandomForestClassifier(random_state=38)\n",
    "rf_model.fit(X_train, y_train)\n",
    "\n",
    "y_pred = rf_model.predict(X_test)\n",
    "\n",
    "accuracy = accuracy_score(y_test, y_pred)\n",
    "print(f\"Accuracy: {accuracy:.4f}\")\n",
    "\n",
    "report = classification_report(y_test, y_pred)\n",
    "print(\"\\nClassification Report:\")\n",
    "print(report)\n"
   ]
  },
  {
   "cell_type": "markdown",
   "metadata": {},
   "source": [
    "Next, perform hyperparameter tuning for the RandomForestClassifier using GridSearchCV with a defined param_grid. It evaluates different combinations of hyperparameters using cross-validation, selects the best model, and then evaluates its performance on the test data by calculating accuracy and generating a classification report."
   ]
  },
  {
   "cell_type": "code",
   "execution_count": null,
   "metadata": {},
   "outputs": [],
   "source": [
    "param_grid ={ 'n_estimators': [100, 200, 300], \n",
    "    'criterion': ['gini', 'entropy'],\n",
    "    'max_depth': [None, 10, 20, 30],\n",
    "    'min_samples_split': [2, 5, 10],\n",
    "    'min_samples_leaf': [1, 2, 4],\n",
    "    'max_features': ['auto', 'sqrt', 'log2']\n",
    "}\n",
    "\n",
    "grid_search = GridSearchCV(rf_model, param_grid, cv=3, n_jobs=-1)\n",
    "grid_search.fit(X_train, y_train)\n",
    "print(\"Best parameters:\", grid_search.best_params_)\n",
    "print(\"Best cross-validation score:\", grid_search.best_score_)\n",
    "\n",
    "best_model = grid_search.best_estimator_\n",
    "y_pred = best_model.predict(X_test)\n",
    "accuracy = accuracy_score(y_test, y_pred)\n",
    "print(f\"Accuracy: {accuracy:.4f}\")\n",
    "print(\"Classification Report:\\n\", classification_report(y_test, y_pred))"
   ]
  },
  {
   "cell_type": "markdown",
   "metadata": {},
   "source": [
    "#### **Decision Tree**"
   ]
  },
  {
   "cell_type": "markdown",
   "metadata": {},
   "source": [
    "Firstly, train a DecisionTreeClassifier on the training data, make predictions on the test data, and then evaluate the model's performance by calculating accuracy and generating a classification report. It serves as a baseline model for comparison."
   ]
  },
  {
   "cell_type": "code",
   "execution_count": null,
   "metadata": {},
   "outputs": [],
   "source": [
    "dt_model = DecisionTreeClassifier(random_state=38)\n",
    "\n",
    "dt_model.fit(X_train, y_train)\n",
    "\n",
    "y_pred = dt_model.predict(X_test)\n",
    "\n",
    "print(\"Accuracy (Baseline):\", accuracy_score(y_test, y_pred))\n",
    "print(\"\\nClassification Report (Baseline):\\n\", classification_report(y_test, y_pred))"
   ]
  },
  {
   "cell_type": "markdown",
   "metadata": {},
   "source": [
    "Next, perform hyperparameter tuning for the DecisionTreeClassifier using GridSearchCV to find the best combination of hyperparameters (e.g., criterion, max_depth, min_samples_split, min_samples_leaf) through cross-validation. It then trains the model with the best parameters, makes predictions on the test data, and evaluates its accuracy and classification report."
   ]
  },
  {
   "cell_type": "code",
   "execution_count": null,
   "metadata": {},
   "outputs": [],
   "source": [
    "param_grid = {\n",
    "    'criterion': ['gini', 'entropy'],       \n",
    "    'max_depth': [None, 5, 10, 15, 20],    \n",
    "    'min_samples_split': [2, 5, 10],         \n",
    "    'min_samples_leaf': [1, 2, 5]           \n",
    "}\n",
    "\n",
    "grid_search = GridSearchCV(dt_model, param_grid, cv=3, n_jobs=-1)\n",
    "\n",
    "grid_search.fit(X_train, y_train)\n",
    "\n",
    "best_params = grid_search.best_params_\n",
    "print(\"Best parameters:\", best_params)\n",
    "\n",
    "best_dt_model = grid_search.best_estimator_\n",
    "y_pred_tuned = best_dt_model.predict(X_test)\n",
    "\n",
    "print(\"Accuracy (Tuned):\", accuracy_score(y_test, y_pred_tuned))\n",
    "print(\"\\nClassification Report (Tuned):\\n\", classification_report(y_test, y_pred_tuned))\n"
   ]
  },
  {
   "cell_type": "markdown",
   "metadata": {},
   "source": [
    "## **REFLECTION**"
   ]
  },
  {
   "cell_type": "markdown",
   "metadata": {},
   "source": [
    "### **22127359 - Chu Thuy Quynh**"
   ]
  },
  {
   "cell_type": "markdown",
   "metadata": {},
   "source": [
    "Difficulties:\n",
    " - When I started building the model, I faced difficulties because most of my data was non-numeric, making it challenging to apply existing libraries\n",
    "\n",
    "Learned:\n",
    "- I learned that feature engineering could help transform my raw data into numerical features, making it more suitable for modeling. By creating these engineered features, I was able to convert categorical data into numeric representations that machine learning models can better understand and utilize."
   ]
  },
  {
   "cell_type": "markdown",
   "metadata": {},
   "source": [
    "### **22127302 - Nguyen Dang Nhan**"
   ]
  },
  {
   "cell_type": "markdown",
   "metadata": {},
   "source": [
    "Difficulties: \n",
    "- I have trouble with the data preprocessing part, especially dealing with missing values, i have to compute the ratio and i was wrong at the first place.\n",
    "- I also have trouble with visualization, the bar plot in question 5 have a lot of Director-Cast pair which make the legend take too much space in the visualization.\n",
    "\n",
    "Learned:\n",
    "- I can now understand how to fix the missing values and visualize the data more effectively by reduce the size of the legend or reduce the number of Director-Cast pair in the visualization. Moreover, I can now use different visualization techniques to make the data more understandable."
   ]
  },
  {
   "cell_type": "markdown",
   "metadata": {},
   "source": [
    "### **22127404 - Tạ Minh Thư**"
   ]
  },
  {
   "cell_type": "markdown",
   "metadata": {},
   "source": [
    "Difficulties: \n",
    "- I have diffulties in improving models accuracy, since at first, I haven't thought of that the size of dataset can also affect the accuracy of the models.\n",
    "\n",
    "Learned:\n",
    "- I know more ways to improve the accuracy of the models and how to choose the correct models for each problem and dataset."
   ]
  },
  {
   "cell_type": "markdown",
   "metadata": {},
   "source": [
    "### **TEAM REFLECTION**"
   ]
  },
  {
   "cell_type": "markdown",
   "metadata": {},
   "source": [
    "The accuracy of model is still not good enough. If we have more time, we will crawl more data for model training and try to preprocess the data better for data modeling."
   ]
  }
 ],
 "metadata": {
  "kernelspec": {
   "display_name": "min_ds-env0",
   "language": "python",
   "name": "python3"
  },
  "language_info": {
   "codemirror_mode": {
    "name": "ipython",
    "version": 3
   },
   "file_extension": ".py",
   "mimetype": "text/x-python",
   "name": "python",
   "nbconvert_exporter": "python",
   "pygments_lexer": "ipython3",
   "version": "3.13.0"
  }
 },
 "nbformat": 4,
 "nbformat_minor": 2
}

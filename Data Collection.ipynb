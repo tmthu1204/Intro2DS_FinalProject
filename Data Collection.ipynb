{
 "cells": [
  {
   "cell_type": "markdown",
   "metadata": {},
   "source": [
    "# `DATA COLLECTION`\n",
    "# **TOPIC: FILMS ANALYSIS**\n",
    "`Group ID`: 17\n",
    "\n",
    "`Group Member`:\n",
    "- 22127404_Tạ Minh Thư\n",
    "- 22127359_Chu Thúy Quỳnh\n",
    "- 22127302_Nguyễn Đăng Nhân"
   ]
  },
  {
   "cell_type": "markdown",
   "metadata": {},
   "source": [
    "***"
   ]
  },
  {
   "cell_type": "markdown",
   "metadata": {},
   "source": [
    "## **OBJECTIVES**"
   ]
  },
  {
   "cell_type": "markdown",
   "metadata": {},
   "source": []
  }
 ],
 "metadata": {
  "language_info": {
   "name": "python"
  }
 },
 "nbformat": 4,
 "nbformat_minor": 2
}

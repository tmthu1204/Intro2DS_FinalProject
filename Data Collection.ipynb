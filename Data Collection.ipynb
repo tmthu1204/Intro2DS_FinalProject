{
 "cells": [
  {
   "cell_type": "markdown",
   "metadata": {},
   "source": [
    "# `DATA COLLECTION`\n",
    "# **TOPIC: FILMS ANALYSIS**\n",
    "`Group ID`: 17\n",
    "\n",
    "`Group Member`:\n",
    "- 22127404_Tạ Minh Thư\n",
    "- 22127359_Chu Thúy Quỳnh\n",
    "- 22127302_Nguyễn Đăng Nhân"
   ]
  },
  {
   "cell_type": "markdown",
   "metadata": {},
   "source": [
    "***"
   ]
  },
  {
   "cell_type": "markdown",
   "metadata": {},
   "source": [
    "## **OBJECTIVES**"
   ]
  },
  {
   "cell_type": "markdown",
   "metadata": {},
   "source": [
    "In this phase, a Data Collection pipeline will be developed to collect and identify relevant information about the top lifetime gross revenue of films from Box Office Mojo, using web scraping tool Requests. \n",
    "\n",
    "The scraped data will be organized into a well-defined table format, including nine attributes (rank, title, foreign %, domestic %, year, genre, director, writer, cast) and 1,000 records to ensure sufficient coverage and data diversity for preprocessing and exploration in the next phase."
   ]
  },
  {
   "cell_type": "markdown",
   "metadata": {},
   "source": [
    "## **IMPLEMENTATION WITH EXPLANATION**"
   ]
  },
  {
   "cell_type": "markdown",
   "metadata": {},
   "source": [
    "### **SETUP AND IMPORTS**"
   ]
  },
  {
   "cell_type": "markdown",
   "metadata": {},
   "source": [
    "There are three libraries imported in this phase:\n",
    "- **XX**:\n",
    "- **XX**:\n",
    "- **XX**:"
   ]
  },
  {
   "cell_type": "code",
   "execution_count": 1,
   "metadata": {},
   "outputs": [],
   "source": [
    "import requests\n",
    "from bs4 import BeautifulSoup\n",
    "import pandas as pd"
   ]
  },
  {
   "cell_type": "markdown",
   "metadata": {},
   "source": [
    "### **WEB SCRAPING CONFIGURATION**"
   ]
  },
  {
   "cell_type": "markdown",
   "metadata": {},
   "source": [
    "In this step, the base URL is defined with a placeholder {}, allowing dynamically insertion of different offset values. This helps to scrape multiple pages from the website by adjusting the offset for each request. \n",
    "\n",
    "Before sending requests to the website, it is necessary to setup a user-agent header in order to avoid detection as a automated bot, preventing the server from blocking the request."
   ]
  },
  {
   "cell_type": "code",
   "execution_count": 2,
   "metadata": {},
   "outputs": [],
   "source": [
    "base_url = \"https://www.boxofficemojo.com/chart/ww_top_lifetime_gross/?offset={}\"\n",
    "headers = {\n",
    "    'User-agent': 'Mozilla/5.0 (X11; Linux x86_64) AppleWebKit/537.36 (KHTML, like Gecko) Chrome/51.0.2704.106 Safari/537.36 OPR/38.0.2220.41'\n",
    "    }"
   ]
  },
  {
   "cell_type": "markdown",
   "metadata": {},
   "source": [
    "### **DATA EXTRACTION**"
   ]
  },
  {
   "cell_type": "markdown",
   "metadata": {},
   "source": [
    "#### **OVERALL INFORMATION**"
   ]
  },
  {
   "cell_type": "markdown",
   "metadata": {},
   "source": [
    "For the overall information of films, six empty lists are initialized to store the following attributes:\n",
    "- `ranks`: The film's rank in the top lifetime grosses.\n",
    "- `titles`: The film's name.\n",
    "- `links`: The link to the film's description page.\n",
    "- `foreign_grosses`: The percentage of the foreign grosses in the film's worldwide grosses.\n",
    "- `domestic_grosses`: The percentage of the domestic grosses in the film's worldwide grosses.\n",
    "- `years`: The year that the film was first released.\n",
    "\n",
    "The domain link of Box Office Mojo is defined for constructing the full URL to each film's description page. \n",
    "\n",
    "A loop is then defined to iterate through values of offset within range from 0 to 1000 in steps of 200. This range is chosen as each page on the website displays 200 films and there are 1000 films in total. In each iteration:\n",
    "- The value of offset is inserted in the base_url to create the full link.\n",
    "- `requests.get(url, headers)` sends a GET request to the constructed `url` with custom headers to simulate a real browser.\n",
    "- `response.raise_for status()` checks if the request is successful or not. If the request failed, it will raise an HTTPError for better error handling.\n",
    "- `BeautifulSoup` parses the HTML content for easier extraction.\n",
    "- The data is extracted step by step, using `soup.find_all()`."
   ]
  },
  {
   "cell_type": "code",
   "execution_count": 3,
   "metadata": {},
   "outputs": [],
   "source": [
    "ranks, titles, links, foreign_grosses, domestic_grosses, years  = [], [], [], [], [], []\n",
    "domain_url = \"https://www.boxofficemojo.com\"\n",
    "\n",
    "for offset in range(0, 1000, 200):\n",
    "    url = base_url.format(offset)\n",
    "\n",
    "    response = requests.get(url, headers=headers)\n",
    "    response.raise_for_status()\n",
    "\n",
    "    soup = BeautifulSoup(response.text, 'html.parser')\n",
    "\n",
    "    for rank in soup.find_all('td', class_ = 'a-text-right mojo-header-column mojo-truncate mojo-field-type-rank'):\n",
    "        ranks.append(rank.text)\n",
    "\n",
    "    for element in soup.find_all('td', class_ = 'a-text-left mojo-field-type-title'):\n",
    "        titles.append(element.text)\n",
    "        links.append(domain_url + element.a['href'])\n",
    "\n",
    "    for gross in soup.find_all('td', class_ = 'a-text-right mojo-field-type-percent')[1::2]:\n",
    "        foreign_grosses.append(gross.text)\n",
    "    \n",
    "    for gross in soup.find_all('td', class_ = 'a-text-right mojo-field-type-percent')[::2]:\n",
    "        domestic_grosses.append(gross.text)\n",
    "\n",
    "    for year in soup.find_all('td', class_ = 'a-text-left mojo-field-type-year'):\n",
    "        years.append(year.text)"
   ]
  },
  {
   "cell_type": "markdown",
   "metadata": {},
   "source": [
    "#### **DETAILED INFORMATION**"
   ]
  },
  {
   "cell_type": "markdown",
   "metadata": {},
   "source": [
    "For the detailed information, four empty lists are initialized to store the following attributes:\n",
    "- `genres`: The genre(s) associated with each film.\n",
    "- `directors`: The director(s) of each film.\n",
    "- `writers`: The writer(s) credited for each film.\n",
    "- `casts`: The main cast members of each film."
   ]
  },
  {
   "cell_type": "code",
   "execution_count": 4,
   "metadata": {},
   "outputs": [],
   "source": [
    "genres, crew_urls = [], []\n",
    "\n",
    "for link in links:\n",
    "    response = requests.get(link, headers=headers)\n",
    "    response.raise_for_status()\n",
    "\n",
    "    soup = BeautifulSoup(response.text, 'html.parser')\n",
    "\n",
    "    genres.append(\", \".join([genre.text for genre in soup.find_all('div', class_ = 'a-section a-spacing-none')[-2].find_all('span')[1:]]))\n",
    "    crew_urls.append(domain_url + soup.find_all('a', class_ = 'a-size-base a-link-normal mojo-navigation-tab')[0]['href'])\n",
    "    \n",
    "    "
   ]
  },
  {
   "cell_type": "markdown",
   "metadata": {},
   "source": []
  },
  {
   "cell_type": "code",
   "execution_count": 5,
   "metadata": {},
   "outputs": [],
   "source": [
    "directors, writers, casts = [], [], []\n",
    "\n",
    "for url in crew_urls:\n",
    "    director_container, writer_container, cast_container = [], [], []\n",
    "    response = requests.get(url, headers=headers)\n",
    "    response.raise_for_status()\n",
    "\n",
    "    soup = BeautifulSoup(response.text, 'html.parser')\n",
    "\n",
    "    for director in soup.find_all('table', class_ = 'a-bordered a-horizontal-stripes a-spacing-base a-size-base-plus')[0].find_all('tr')[1:]:\n",
    "        role = director.text.split('\\n\\n')[1]\n",
    "        name = director.text.split('\\n\\n')[0]\n",
    "\n",
    "        if role == 'Director':\n",
    "            director_container.append(name)\n",
    "        elif role == 'Writer':\n",
    "            writer_container.append(name)\n",
    "\n",
    "    for cast in soup.find_all('table', class_ = 'a-bordered a-horizontal-stripes a-spacing-base a-size-base-plus')[1].find_all('tr')[1:]:\n",
    "        cast_container.append(cast.text.split('\\n\\n')[0])\n",
    "\n",
    "    directors.append(\", \".join(director_container))\n",
    "    writers.append(\", \".join(writer_container))\n",
    "    casts.append(\", \".join(cast_container))\n"
   ]
  },
  {
   "cell_type": "markdown",
   "metadata": {},
   "source": []
  },
  {
   "cell_type": "code",
   "execution_count": 6,
   "metadata": {},
   "outputs": [
    {
     "data": {
      "text/html": [
       "<div>\n",
       "<style scoped>\n",
       "    .dataframe tbody tr th:only-of-type {\n",
       "        vertical-align: middle;\n",
       "    }\n",
       "\n",
       "    .dataframe tbody tr th {\n",
       "        vertical-align: top;\n",
       "    }\n",
       "\n",
       "    .dataframe thead th {\n",
       "        text-align: right;\n",
       "    }\n",
       "</style>\n",
       "<table border=\"1\" class=\"dataframe\">\n",
       "  <thead>\n",
       "    <tr style=\"text-align: right;\">\n",
       "      <th></th>\n",
       "      <th>Rank</th>\n",
       "      <th>Title</th>\n",
       "      <th>Foreign %</th>\n",
       "      <th>Domestic %</th>\n",
       "      <th>Year</th>\n",
       "      <th>Genre</th>\n",
       "      <th>Director</th>\n",
       "      <th>Writer</th>\n",
       "      <th>Cast</th>\n",
       "    </tr>\n",
       "  </thead>\n",
       "  <tbody>\n",
       "    <tr>\n",
       "      <th>0</th>\n",
       "      <td>1</td>\n",
       "      <td>Avatar</td>\n",
       "      <td>73.1%</td>\n",
       "      <td>26.9%</td>\n",
       "      <td>2009</td>\n",
       "      <td>Action\\n    \\n        Adventure\\n    \\n       ...</td>\n",
       "      <td>James Cameron</td>\n",
       "      <td>James Cameron</td>\n",
       "      <td>Sam Worthington, Zoe Saldana, Sigourney Weaver...</td>\n",
       "    </tr>\n",
       "    <tr>\n",
       "      <th>1</th>\n",
       "      <td>2</td>\n",
       "      <td>Avengers: Endgame</td>\n",
       "      <td>69.3%</td>\n",
       "      <td>30.7%</td>\n",
       "      <td>2019</td>\n",
       "      <td>Action\\n    \\n        Adventure\\n    \\n       ...</td>\n",
       "      <td>Anthony Russo, Joe Russo</td>\n",
       "      <td>Christopher Markus, Stephen McFeely, Stan Lee,...</td>\n",
       "      <td>Robert Downey Jr., Chris Evans, Mark Ruffalo, ...</td>\n",
       "    </tr>\n",
       "    <tr>\n",
       "      <th>2</th>\n",
       "      <td>3</td>\n",
       "      <td>Avatar: The Way of Water</td>\n",
       "      <td>70.5%</td>\n",
       "      <td>29.5%</td>\n",
       "      <td>2022</td>\n",
       "      <td>Action\\n    \\n        Adventure\\n    \\n       ...</td>\n",
       "      <td>James Cameron</td>\n",
       "      <td>James Cameron, Rick Jaffa, Amanda Silver, Jame...</td>\n",
       "      <td>Sam Worthington, Zoe Saldana, Sigourney Weaver...</td>\n",
       "    </tr>\n",
       "    <tr>\n",
       "      <th>3</th>\n",
       "      <td>4</td>\n",
       "      <td>Titanic</td>\n",
       "      <td>70.2%</td>\n",
       "      <td>29.8%</td>\n",
       "      <td>1997</td>\n",
       "      <td>Drama\\n    \\n        Romance</td>\n",
       "      <td>James Cameron</td>\n",
       "      <td>James Cameron</td>\n",
       "      <td>Leonardo DiCaprio, Kate Winslet, Billy Zane, K...</td>\n",
       "    </tr>\n",
       "    <tr>\n",
       "      <th>4</th>\n",
       "      <td>5</td>\n",
       "      <td>Star Wars: Episode VII - The Force Awakens</td>\n",
       "      <td>54.8%</td>\n",
       "      <td>45.2%</td>\n",
       "      <td>2015</td>\n",
       "      <td>Action\\n    \\n        Adventure\\n    \\n       ...</td>\n",
       "      <td>J.J. Abrams</td>\n",
       "      <td>Lawrence Kasdan, J.J. Abrams, Michael Arndt, G...</td>\n",
       "      <td>Daisy Ridley, John Boyega, Oscar Isaac, Domhna...</td>\n",
       "    </tr>\n",
       "    <tr>\n",
       "      <th>...</th>\n",
       "      <td>...</td>\n",
       "      <td>...</td>\n",
       "      <td>...</td>\n",
       "      <td>...</td>\n",
       "      <td>...</td>\n",
       "      <td>...</td>\n",
       "      <td>...</td>\n",
       "      <td>...</td>\n",
       "      <td>...</td>\n",
       "    </tr>\n",
       "    <tr>\n",
       "      <th>995</th>\n",
       "      <td>996</td>\n",
       "      <td>The Final Destination</td>\n",
       "      <td>64.3%</td>\n",
       "      <td>35.7%</td>\n",
       "      <td>2009</td>\n",
       "      <td>Horror\\n    \\n        Thriller</td>\n",
       "      <td>David R. Ellis</td>\n",
       "      <td>Eric Bress, Jeffrey Reddick</td>\n",
       "      <td>Nick Zano, Krista Allen, Andrew Fiscella, Bobb...</td>\n",
       "    </tr>\n",
       "    <tr>\n",
       "      <th>996</th>\n",
       "      <td>997</td>\n",
       "      <td>Atlantis: The Lost Empire</td>\n",
       "      <td>54.8%</td>\n",
       "      <td>45.2%</td>\n",
       "      <td>2001</td>\n",
       "      <td>Action\\n    \\n        Adventure\\n    \\n       ...</td>\n",
       "      <td>Gary Trousdale, Kirk Wise</td>\n",
       "      <td>Tab Murphy, Kirk Wise, Gary Trousdale, Joss Wh...</td>\n",
       "      <td>Michael J. Fox, Jim Varney, Corey Burton, Clau...</td>\n",
       "    </tr>\n",
       "    <tr>\n",
       "      <th>997</th>\n",
       "      <td>998</td>\n",
       "      <td>Inside Man</td>\n",
       "      <td>52.4%</td>\n",
       "      <td>47.6%</td>\n",
       "      <td>2006</td>\n",
       "      <td>Crime\\n    \\n        Drama\\n    \\n        Myst...</td>\n",
       "      <td>Spike Lee</td>\n",
       "      <td>Russell Gewirtz</td>\n",
       "      <td>Denzel Washington, Clive Owen, Jodie Foster, C...</td>\n",
       "    </tr>\n",
       "    <tr>\n",
       "      <th>998</th>\n",
       "      <td>999</td>\n",
       "      <td>The Waterboy</td>\n",
       "      <td>13.2%</td>\n",
       "      <td>86.8%</td>\n",
       "      <td>1998</td>\n",
       "      <td>Comedy\\n    \\n        Sport</td>\n",
       "      <td>Frank Coraci</td>\n",
       "      <td>Tim Herlihy, Adam Sandler</td>\n",
       "      <td>Adam Sandler, Kathy Bates, Henry Winkler, Fair...</td>\n",
       "    </tr>\n",
       "    <tr>\n",
       "      <th>999</th>\n",
       "      <td>1,000</td>\n",
       "      <td>Coraline</td>\n",
       "      <td>37.1%</td>\n",
       "      <td>62.9%</td>\n",
       "      <td>2009</td>\n",
       "      <td>Animation\\n    \\n        Drama\\n    \\n        ...</td>\n",
       "      <td>Henry Selick</td>\n",
       "      <td>Henry Selick, Neil Gaiman</td>\n",
       "      <td>Dakota Fanning, Teri Hatcher, John Hodgman, Je...</td>\n",
       "    </tr>\n",
       "  </tbody>\n",
       "</table>\n",
       "<p>1000 rows × 9 columns</p>\n",
       "</div>"
      ],
      "text/plain": [
       "      Rank                                       Title Foreign % Domestic %  \\\n",
       "0        1                                      Avatar     73.1%      26.9%   \n",
       "1        2                           Avengers: Endgame     69.3%      30.7%   \n",
       "2        3                    Avatar: The Way of Water     70.5%      29.5%   \n",
       "3        4                                     Titanic     70.2%      29.8%   \n",
       "4        5  Star Wars: Episode VII - The Force Awakens     54.8%      45.2%   \n",
       "..     ...                                         ...       ...        ...   \n",
       "995    996                       The Final Destination     64.3%      35.7%   \n",
       "996    997                   Atlantis: The Lost Empire     54.8%      45.2%   \n",
       "997    998                                  Inside Man     52.4%      47.6%   \n",
       "998    999                                The Waterboy     13.2%      86.8%   \n",
       "999  1,000                                    Coraline     37.1%      62.9%   \n",
       "\n",
       "     Year                                              Genre  \\\n",
       "0    2009  Action\\n    \\n        Adventure\\n    \\n       ...   \n",
       "1    2019  Action\\n    \\n        Adventure\\n    \\n       ...   \n",
       "2    2022  Action\\n    \\n        Adventure\\n    \\n       ...   \n",
       "3    1997                       Drama\\n    \\n        Romance   \n",
       "4    2015  Action\\n    \\n        Adventure\\n    \\n       ...   \n",
       "..    ...                                                ...   \n",
       "995  2009                     Horror\\n    \\n        Thriller   \n",
       "996  2001  Action\\n    \\n        Adventure\\n    \\n       ...   \n",
       "997  2006  Crime\\n    \\n        Drama\\n    \\n        Myst...   \n",
       "998  1998                        Comedy\\n    \\n        Sport   \n",
       "999  2009  Animation\\n    \\n        Drama\\n    \\n        ...   \n",
       "\n",
       "                      Director  \\\n",
       "0                James Cameron   \n",
       "1     Anthony Russo, Joe Russo   \n",
       "2                James Cameron   \n",
       "3                James Cameron   \n",
       "4                  J.J. Abrams   \n",
       "..                         ...   \n",
       "995             David R. Ellis   \n",
       "996  Gary Trousdale, Kirk Wise   \n",
       "997                  Spike Lee   \n",
       "998               Frank Coraci   \n",
       "999               Henry Selick   \n",
       "\n",
       "                                                Writer  \\\n",
       "0                                        James Cameron   \n",
       "1    Christopher Markus, Stephen McFeely, Stan Lee,...   \n",
       "2    James Cameron, Rick Jaffa, Amanda Silver, Jame...   \n",
       "3                                        James Cameron   \n",
       "4    Lawrence Kasdan, J.J. Abrams, Michael Arndt, G...   \n",
       "..                                                 ...   \n",
       "995                        Eric Bress, Jeffrey Reddick   \n",
       "996  Tab Murphy, Kirk Wise, Gary Trousdale, Joss Wh...   \n",
       "997                                    Russell Gewirtz   \n",
       "998                          Tim Herlihy, Adam Sandler   \n",
       "999                          Henry Selick, Neil Gaiman   \n",
       "\n",
       "                                                  Cast  \n",
       "0    Sam Worthington, Zoe Saldana, Sigourney Weaver...  \n",
       "1    Robert Downey Jr., Chris Evans, Mark Ruffalo, ...  \n",
       "2    Sam Worthington, Zoe Saldana, Sigourney Weaver...  \n",
       "3    Leonardo DiCaprio, Kate Winslet, Billy Zane, K...  \n",
       "4    Daisy Ridley, John Boyega, Oscar Isaac, Domhna...  \n",
       "..                                                 ...  \n",
       "995  Nick Zano, Krista Allen, Andrew Fiscella, Bobb...  \n",
       "996  Michael J. Fox, Jim Varney, Corey Burton, Clau...  \n",
       "997  Denzel Washington, Clive Owen, Jodie Foster, C...  \n",
       "998  Adam Sandler, Kathy Bates, Henry Winkler, Fair...  \n",
       "999  Dakota Fanning, Teri Hatcher, John Hodgman, Je...  \n",
       "\n",
       "[1000 rows x 9 columns]"
      ]
     },
     "execution_count": 6,
     "metadata": {},
     "output_type": "execute_result"
    }
   ],
   "source": [
    "films = pd.DataFrame({\n",
    "    'Rank': ranks,\n",
    "    'Title': titles,\n",
    "    'Foreign %': foreign_grosses,\n",
    "    'Domestic %': domestic_grosses,\n",
    "    'Year': years,\n",
    "    'Genre': genres,\n",
    "    'Director': directors,\n",
    "    'Writer': writers,\n",
    "    'Cast': casts\n",
    "})\n",
    "\n",
    "films"
   ]
  },
  {
   "cell_type": "code",
   "execution_count": 7,
   "metadata": {},
   "outputs": [],
   "source": [
    "films.to_csv(\"films_data.csv\", sep='\\t', encoding='utf-8', index=False, header=True)"
   ]
  }
 ],
 "metadata": {
  "kernelspec": {
   "display_name": "min_ds-env0",
   "language": "python",
   "name": "python3"
  },
  "language_info": {
   "codemirror_mode": {
    "name": "ipython",
    "version": 3
   },
   "file_extension": ".py",
   "mimetype": "text/x-python",
   "name": "python",
   "nbconvert_exporter": "python",
   "pygments_lexer": "ipython3",
   "version": "3.13.0"
  }
 },
 "nbformat": 4,
 "nbformat_minor": 2
}
